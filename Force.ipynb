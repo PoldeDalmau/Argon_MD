{
 "cells": [
  {
   "cell_type": "code",
   "execution_count": 1,
   "id": "false-checkout",
   "metadata": {},
   "outputs": [],
   "source": [
    "import numpy as np"
   ]
  },
  {
   "cell_type": "code",
   "execution_count": 2,
   "id": "dutch-polish",
   "metadata": {},
   "outputs": [
    {
     "data": {
      "text/plain": [
       "array([3.01347735e-73, 3.01347735e-73])"
      ]
     },
     "execution_count": 2,
     "metadata": {},
     "output_type": "execute_result"
    }
   ],
   "source": [
    "e = 1.65*pow(10,-21)\n",
    "s = 3.405*pow(10,-10)\n",
    "def lj_force(pos):\n",
    "    rel_pos=pos[0,:]-pos[1,:]\n",
    "    dist = np.linalg.norm(pos[1,:]-pos[0,:])\n",
    "    r = dist\n",
    "    F = rel_pos*((24*e/pow(r,2))*(pow(s/r,6))*((pow(s/r,6))-1))\n",
    "    return F\n",
    "a = np.array([[0.1, 0.2],\n",
    "        [0.3, 0.4]])\n",
    "lj_force(a)"
   ]
  },
  {
   "cell_type": "raw",
   "id": "empty-birmingham",
   "metadata": {},
   "source": [
    "Euler Method from Euler_Method.ipynb. This time using the right force:"
   ]
  },
  {
   "cell_type": "code",
   "execution_count": 7,
   "id": "premier-attribute",
   "metadata": {},
   "outputs": [],
   "source": [
    "m = 1       #Argon Mass\n",
    "time_step = 10**(-4)\n",
    "final_matrix_pos = np.array([[0.1, 0.2],\n",
    "        [0.3, 0.4]])\n",
    "final_matrix_vel = np.array([[40, 100],\n",
    "        [350, -40]])"
   ]
  },
  {
   "cell_type": "code",
   "execution_count": 9,
   "id": "pregnant-regard",
   "metadata": {},
   "outputs": [
    {
     "data": {
      "text/plain": [
       "array([3.01347735e-73, 3.01347735e-73])"
      ]
     },
     "execution_count": 9,
     "metadata": {},
     "output_type": "execute_result"
    }
   ],
   "source": [
    "latest_pos = final_matrix_pos[:,-2:]          \n",
    "latest_vel = final_matrix_vel[:,-2:]\n",
    "\n",
    "lj_force(latest_pos)"
   ]
  },
  {
   "cell_type": "code",
   "execution_count": 8,
   "id": "amazing-interval",
   "metadata": {},
   "outputs": [
    {
     "data": {
      "text/plain": [
       "('position',\n",
       " array([[0.104, 0.21 ],\n",
       "        [0.335, 0.396]]),\n",
       " 'velocity',\n",
       " array([[ 40., 100.],\n",
       "        [350., -40.]]))"
      ]
     },
     "execution_count": 8,
     "metadata": {},
     "output_type": "execute_result"
    }
   ],
   "source": [
    "def euler(final_matrix_pos, final_matrix_vel):\n",
    "    latest_pos = final_matrix_pos[:,-2:]          #the -2 will eventually become -(number of particles)\n",
    "    latest_vel = final_matrix_vel[:,-2:]\n",
    "    \n",
    "    new_latest_pos = latest_pos + latest_vel * time_step\n",
    "    new_latest_vel = latest_vel + 1/m * lj_force(latest_pos)\n",
    "    return \"position\", new_latest_pos,\"velocity\", new_latest_vel\n",
    "\n",
    "euler(final_matrix_pos, final_matrix_vel)"
   ]
  },
  {
   "cell_type": "code",
   "execution_count": null,
   "id": "color-reduction",
   "metadata": {},
   "outputs": [],
   "source": []
  }
 ],
 "metadata": {
  "kernelspec": {
   "display_name": "Python 3",
   "language": "python",
   "name": "python3"
  },
  "language_info": {
   "codemirror_mode": {
    "name": "ipython",
    "version": 3
   },
   "file_extension": ".py",
   "mimetype": "text/x-python",
   "name": "python",
   "nbconvert_exporter": "python",
   "pygments_lexer": "ipython3",
   "version": "3.8.6"
  }
 },
 "nbformat": 4,
 "nbformat_minor": 5
}
