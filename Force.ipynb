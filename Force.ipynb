{
 "cells": [
  {
   "cell_type": "code",
   "execution_count": 3,
   "id": "greenhouse-fraud",
   "metadata": {},
   "outputs": [],
   "source": [
    "import numpy as np"
   ]
  },
  {
   "cell_type": "code",
   "execution_count": 28,
   "id": "recognized-bikini",
   "metadata": {},
   "outputs": [
    {
     "data": {
      "text/plain": [
       "array([3.01347735e-80, 3.01347735e-80])"
      ]
     },
     "execution_count": 28,
     "metadata": {},
     "output_type": "execute_result"
    }
   ],
   "source": [
    "e = 1.65*pow(10,-21)\n",
    "s = 3.405*pow(10,-10)\n",
    "def lj_force(pos):\n",
    "    rel_pos=pos[0,::]-pos[1,::]\n",
    "    dist = np.linalg.norm(pos[1,::]-pos[0,::])\n",
    "    x = rel_pos\n",
    "    r = dist\n",
    "    F = x*((24*e/pow(r,2))*(pow(s/r,6))*((pow(s/r,6))-1))\n",
    "    return F\n",
    "a = np.array([[1, 2],\n",
    "        [3, 4]])\n",
    "lj_force(a)"
   ]
  },
  {
   "cell_type": "code",
   "execution_count": null,
   "id": "monthly-throat",
   "metadata": {},
   "outputs": [],
   "source": []
  }
 ],
 "metadata": {
  "kernelspec": {
   "display_name": "Python 3",
   "language": "python",
   "name": "python3"
  },
  "language_info": {
   "codemirror_mode": {
    "name": "ipython",
    "version": 3
   },
   "file_extension": ".py",
   "mimetype": "text/x-python",
   "name": "python",
   "nbconvert_exporter": "python",
   "pygments_lexer": "ipython3",
   "version": "3.8.6"
  }
 },
 "nbformat": 4,
 "nbformat_minor": 5
}
