{
 "cells": [
  {
   "cell_type": "markdown",
   "id": "serial-replacement",
   "metadata": {},
   "source": [
    "the function 'lj_force' takes a 2xn matrix and n as parameters and returns a 2n vector (Fx1, Fy1, Fx2, Fy2,...,Fxn,Fyn)"
   ]
  },
  {
   "cell_type": "code",
   "execution_count": 30,
   "id": "individual-change",
   "metadata": {},
   "outputs": [],
   "source": [
    "import numpy as np"
   ]
  },
  {
   "cell_type": "code",
   "execution_count": 61,
   "id": "excited-disposal",
   "metadata": {},
   "outputs": [],
   "source": [
    "def lj_force(pos, n):\n",
    "    e = 1.65*pow(10,-21)\n",
    "    s = 3.405*pow(10,-10)\n",
    "    F = 0\n",
    "    for j in range(n):\n",
    "        f = 0    # force on the j-th particle\n",
    "        for i in range(n-1):\n",
    "            if i+j+1 >= n:\n",
    "                rel_pos=pos[:,j+i+1-n]-pos[:,j]\n",
    "                r = np.linalg.norm(pos[:,j+i+1-n]-pos[:,j])\n",
    "                f += rel_pos*((24*e/pow(r,2))*(pow(s/r,6))*((pow(s/r,6))-1))  # ff on the j-th part. from the interaction with the i-th part.\n",
    "            else: \n",
    "                rel_pos=pos[:,j+i+1]-pos[:,j]\n",
    "                r = np.linalg.norm(pos[:,j+i+1]-pos[:,j])\n",
    "                f += rel_pos*((24*e/pow(r,2))*(pow(s/r,6))*((pow(s/r,6))-1))  # f on the j-th part. from the interaction with the i-th part.\n",
    "        if j == 0:\n",
    "            F = f\n",
    "        else:\n",
    "            F = np.concatenate((F, f), axis=0, out=None)\n",
    "    return F     "
   ]
  }
 ],
 "metadata": {
  "kernelspec": {
   "display_name": "Python 3",
   "language": "python",
   "name": "python3"
  },
  "language_info": {
   "codemirror_mode": {
    "name": "ipython",
    "version": 3
   },
   "file_extension": ".py",
   "mimetype": "text/x-python",
   "name": "python",
   "nbconvert_exporter": "python",
   "pygments_lexer": "ipython3",
   "version": "3.8.6"
  }
 },
 "nbformat": 4,
 "nbformat_minor": 5
}
