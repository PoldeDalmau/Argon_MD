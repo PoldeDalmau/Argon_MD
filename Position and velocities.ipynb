{
 "cells": [
  {
   "cell_type": "code",
   "execution_count": 43,
   "id": "robust-telephone",
   "metadata": {},
   "outputs": [],
   "source": [
    "import skeleton as s\n",
    "import numpy as np"
   ]
  },
  {
   "cell_type": "markdown",
   "id": "spoken-insured",
   "metadata": {},
   "source": [
    "1st column: x_coordinate, \n",
    "second column: y_coordinate;\n",
    "size(number of particles, number of dimensions)"
   ]
  },
  {
   "cell_type": "code",
   "execution_count": 44,
   "id": "naked-truth",
   "metadata": {},
   "outputs": [
    {
     "name": "stdout",
     "output_type": "stream",
     "text": [
      "pos\n",
      " [[0.16749409 0.3064822 ]\n",
      " [0.33699676 0.36204361]] \n",
      " vel\n",
      " [[-257.25544735  -67.79107335]\n",
      " [-275.43922891   71.56325634]]\n",
      "y_values\n",
      " [0.3064822  0.36204361]\n"
     ]
    }
   ],
   "source": [
    "init_pos = np.random.uniform(low=0, high=1.0, size=(2, 2))\n",
    "init_vel = np.random.uniform(low=-430, high=430, size=(2, 2))\n",
    "\n",
    "print(\"pos\\n\", init_pos,\"\\n vel\\n\" ,init_vel)\n",
    "print(\"y_values\\n\", init_pos[:, 1])"
   ]
  },
  {
   "cell_type": "code",
   "execution_count": 45,
   "id": "suburban-phrase",
   "metadata": {},
   "outputs": [],
   "source": [
    "def function(init_pos, init_vel):\n",
    "    later_positions = np.random.uniform(low=0, high=1.0, size=(2, 2))\n",
    "    np.concatenate((init_pos, later_positions), axis=1, out=None)\n",
    "    \n",
    "function(init_pos, init_vel)"
   ]
  },
  {
   "cell_type": "code",
   "execution_count": 46,
   "id": "existing-sentence",
   "metadata": {},
   "outputs": [
    {
     "name": "stdout",
     "output_type": "stream",
     "text": [
      "later positions\n",
      " [[0.66335538 1.07206957]\n",
      " [0.55157311 0.95712928]]\n"
     ]
    },
    {
     "data": {
      "text/plain": [
       "array([[0.16749409, 0.3064822 , 0.66335538, 1.07206957],\n",
       "       [0.33699676, 0.36204361, 0.55157311, 0.95712928]])"
      ]
     },
     "execution_count": 46,
     "metadata": {},
     "output_type": "execute_result"
    }
   ],
   "source": [
    "later_positions = init_pos + np.random.uniform(low=0, high=1.0, size=(2, 2))\n",
    "print(\"later positions\\n\" , later_positions)\n",
    "np.concatenate((init_pos, later_positions), axis=1, out=None)"
   ]
  },
  {
   "cell_type": "markdown",
   "id": "noted-attribute",
   "metadata": {},
   "source": [
    "No boundary condition yet"
   ]
  },
  {
   "cell_type": "code",
   "execution_count": 47,
   "id": "billion-scoop",
   "metadata": {},
   "outputs": [
    {
     "name": "stdout",
     "output_type": "stream",
     "text": [
      "[[0.16749409 0.3064822  0.32273961 1.08254179 1.28320997 1.7350674\n",
      "  1.89406229 2.19461339]\n",
      " [0.33699676 0.36204361 1.1324881  0.42002685 1.73802951 0.75464608\n",
      "  2.2867907  1.32155097]]\n"
     ]
    }
   ],
   "source": [
    "number_of_steps = 3\n",
    "final_matrix = np.copy(init_pos)\n",
    "next_step_positions = np.copy(init_pos)\n",
    "\n",
    "for i in range(number_of_steps):\n",
    "    next_step_positions += np.random.uniform(low=0, high=1.0, size=(2, 2))\n",
    "    final_matrix =  np.concatenate((final_matrix, next_step_positions), axis=1, out=None)\n",
    "\n",
    "print(final_matrix)"
   ]
  },
  {
   "cell_type": "code",
   "execution_count": null,
   "id": "rapid-antique",
   "metadata": {},
   "outputs": [],
   "source": []
  },
  {
   "cell_type": "code",
   "execution_count": null,
   "id": "tracked-trace",
   "metadata": {},
   "outputs": [],
   "source": []
  }
 ],
 "metadata": {
  "kernelspec": {
   "display_name": "Python 3",
   "language": "python",
   "name": "python3"
  },
  "language_info": {
   "codemirror_mode": {
    "name": "ipython",
    "version": 3
   },
   "file_extension": ".py",
   "mimetype": "text/x-python",
   "name": "python",
   "nbconvert_exporter": "python",
   "pygments_lexer": "ipython3",
   "version": "3.8.6"
  }
 },
 "nbformat": 4,
 "nbformat_minor": 5
}
