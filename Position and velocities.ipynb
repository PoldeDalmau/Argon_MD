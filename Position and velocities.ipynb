{
 "cells": [
  {
   "cell_type": "code",
   "execution_count": 29,
   "id": "organizational-knife",
   "metadata": {},
   "outputs": [],
   "source": [
    "import skeleton as s\n",
    "import numpy as np"
   ]
  },
  {
   "cell_type": "markdown",
   "id": "industrial-identification",
   "metadata": {},
   "source": [
    "1st column: x_coordinate, \n",
    "second column: y_coordinate;\n",
    "size(number of particles, number of dimensions)"
   ]
  },
  {
   "cell_type": "code",
   "execution_count": 30,
   "id": "supported-recording",
   "metadata": {},
   "outputs": [
    {
     "name": "stdout",
     "output_type": "stream",
     "text": [
      "pos\n",
      " [[0.07403622 0.33386521]\n",
      " [0.59605291 0.08792389]] \n",
      " vel\n",
      " [[ 397.92137222 -140.4495737 ]\n",
      " [ 310.62947342  400.83476337]]\n",
      "y_values\n",
      " [0.33386521 0.08792389]\n"
     ]
    }
   ],
   "source": [
    "init_pos = np.random.uniform(low=0, high=1.0, size=(2, 2))\n",
    "init_vel = np.random.uniform(low=-430, high=430, size=(2, 2))\n",
    "\n",
    "print(\"pos\\n\", init_pos,\"\\n vel\\n\" ,init_vel)\n",
    "print(\"y_values\\n\", init_pos[:, 1])"
   ]
  },
  {
   "cell_type": "code",
   "execution_count": 31,
   "id": "modified-paper",
   "metadata": {},
   "outputs": [],
   "source": [
    "def function(init_pos, init_vel):\n",
    "    later_positions = np.random.uniform(low=0, high=1.0, size=(2, 2))\n",
    "    np.concatenate((init_pos, later_positions), axis=1, out=None)\n",
    "    \n",
    "function(init_pos, init_vel)"
   ]
  },
  {
   "cell_type": "code",
   "execution_count": 32,
   "id": "willing-pasta",
   "metadata": {},
   "outputs": [
    {
     "name": "stdout",
     "output_type": "stream",
     "text": [
      "later positions\n",
      " [[1.01341257 1.10865393]\n",
      " [1.54628127 0.35430139]]\n"
     ]
    },
    {
     "data": {
      "text/plain": [
       "array([[0.07403622, 0.33386521, 1.01341257, 1.10865393],\n",
       "       [0.59605291, 0.08792389, 1.54628127, 0.35430139]])"
      ]
     },
     "execution_count": 32,
     "metadata": {},
     "output_type": "execute_result"
    }
   ],
   "source": [
    "later_positions = init_pos + np.random.uniform(low=0, high=1.0, size=(2, 2))\n",
    "print(\"later positions\\n\" , later_positions)\n",
    "np.concatenate((init_pos, later_positions), axis=1, out=None)"
   ]
  },
  {
   "cell_type": "markdown",
   "id": "medical-newton",
   "metadata": {},
   "source": [
    "No boundary condition yet"
   ]
  },
  {
   "cell_type": "code",
   "execution_count": 36,
   "id": "employed-highway",
   "metadata": {},
   "outputs": [
    {
     "name": "stdout",
     "output_type": "stream",
     "text": [
      "[[4.24984241 4.00539917 4.24984241 4.00539917 4.74777679 4.94385783\n",
      "  5.39256181 5.49919828]\n",
      " [5.63565208 5.71525954 5.63565208 5.71525954 6.09226032 6.21216382\n",
      "  7.07673874 6.70330701]]\n"
     ]
    }
   ],
   "source": [
    "number_of_steps = 3\n",
    "final_matrix = init_pos\n",
    "next_step_positions = init_pos\n",
    "\n",
    "for i in range(number_of_steps):\n",
    "    next_step_positions += np.random.uniform(low=0, high=1.0, size=(2, 2))\n",
    "    final_matrix =  np.concatenate((final_matrix, next_step_positions), axis=1, out=None)\n",
    "\n",
    "print(final_matrix)"
   ]
  },
  {
   "cell_type": "code",
   "execution_count": null,
   "id": "molecular-small",
   "metadata": {},
   "outputs": [],
   "source": []
  },
  {
   "cell_type": "code",
   "execution_count": null,
   "id": "responsible-lyric",
   "metadata": {},
   "outputs": [],
   "source": []
  }
 ],
 "metadata": {
  "kernelspec": {
   "display_name": "Python 3",
   "language": "python",
   "name": "python3"
  },
  "language_info": {
   "codemirror_mode": {
    "name": "ipython",
    "version": 3
   },
   "file_extension": ".py",
   "mimetype": "text/x-python",
   "name": "python",
   "nbconvert_exporter": "python",
   "pygments_lexer": "ipython3",
   "version": "3.8.6"
  }
 },
 "nbformat": 4,
 "nbformat_minor": 5
}
