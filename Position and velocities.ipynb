{
 "cells": [
  {
   "cell_type": "code",
   "execution_count": 64,
   "id": "dietary-monthly",
   "metadata": {},
   "outputs": [],
   "source": [
    "import skeleton as s\n",
    "import numpy as np"
   ]
  },
  {
   "cell_type": "markdown",
   "id": "digital-apple",
   "metadata": {},
   "source": [
    "1st column: x_coordinate, \n",
    "second column: y_coordinate;\n",
    "size(number of particles, number of dimensions)"
   ]
  },
  {
   "cell_type": "code",
   "execution_count": 65,
   "id": "utility-piano",
   "metadata": {},
   "outputs": [
    {
     "name": "stdout",
     "output_type": "stream",
     "text": [
      "pos\n",
      " [[0.67795326 0.2479501 ]\n",
      " [0.0109214  0.79719612]] \n",
      " vel\n",
      " [[ 158.95179498  370.64780547]\n",
      " [ 310.79511118 -348.90423435]]\n",
      "y_values\n",
      " [0.2479501  0.79719612]\n"
     ]
    }
   ],
   "source": [
    "init_pos = np.random.uniform(low=0, high=1.0, size=(2, 2))\n",
    "init_vel = np.random.uniform(low=-430, high=430, size=(2, 2))\n",
    "\n",
    "print(\"pos\\n\", init_pos,\"\\n vel\\n\" ,init_vel)\n",
    "print(\"y_values\\n\", init_pos[:, 1])"
   ]
  },
  {
   "cell_type": "code",
   "execution_count": 66,
   "id": "packed-partition",
   "metadata": {},
   "outputs": [
    {
     "name": "stdout",
     "output_type": "stream",
     "text": [
      "later positions\n",
      " [[0.86605558 0.9470161 ]\n",
      " [0.1912903  1.36547987]]\n"
     ]
    },
    {
     "data": {
      "text/plain": [
       "array([[0.67795326, 0.2479501 , 0.86605558, 0.9470161 ],\n",
       "       [0.0109214 , 0.79719612, 0.1912903 , 1.36547987]])"
      ]
     },
     "execution_count": 66,
     "metadata": {},
     "output_type": "execute_result"
    }
   ],
   "source": [
    "later_positions = init_pos + np.random.uniform(low=0, high=1.0, size=(2, 2))\n",
    "print(\"later positions\\n\" , later_positions)\n",
    "np.concatenate((init_pos, later_positions), axis=1, out=None)"
   ]
  },
  {
   "cell_type": "markdown",
   "id": "solid-dublin",
   "metadata": {},
   "source": [
    "No boundary condition yet"
   ]
  },
  {
   "cell_type": "code",
   "execution_count": 67,
   "id": "chief-highlight",
   "metadata": {},
   "outputs": [
    {
     "name": "stdout",
     "output_type": "stream",
     "text": [
      "[[0.67795326 0.2479501  0.08783722 0.09862051 0.12864673 0.64258381\n",
      "  0.82752947 0.09556819]\n",
      " [0.0109214  0.79719612 0.64598299 0.85448467 0.59948018 0.06659922\n",
      "  0.39222353 0.6920052 ]]\n"
     ]
    }
   ],
   "source": [
    "#Create a 2x8 matrix to store the position of each particle at each step in time.\n",
    "number_of_steps = 3\n",
    "pos_steps = np.copy(init_pos)\n",
    "next_step_position = np.copy(init_pos)\n",
    "\n",
    "for i in range(number_of_steps):\n",
    "    next_step_position += np.random.uniform(low=0, high=1.0, size=(2, 2))\n",
    "    for k in range(2): #implement boundary conditions\n",
    "        for j in range(2):\n",
    "            if next_step_position[k, j] > 1:\n",
    "                next_step_position[k, j] -= 1\n",
    "            elif next_step_position[k, j] < 0:\n",
    "                next_step_position[k, j] += 1\n",
    "    pos_steps =  np.concatenate((pos_steps, next_step_position), axis=1, out=None)\n",
    "\n",
    "print(pos_steps)"
   ]
  },
  {
   "cell_type": "code",
   "execution_count": 69,
   "id": "aware-gardening",
   "metadata": {},
   "outputs": [
    {
     "name": "stdout",
     "output_type": "stream",
     "text": [
      "[[ 158.95179498  370.64780547  254.97267211  397.92851946  263.5568153\n",
      "   318.39197682  320.31665183  282.17861152]\n",
      " [ 310.79511118 -348.90423435  260.90478602 -392.71040827  168.02598328\n",
      "  -411.18831337  206.04640032 -503.5748353 ]]\n"
     ]
    }
   ],
   "source": [
    "#Create a 2x8 matrix to store the velocity of each particle at each step in time.\n",
    "vel_steps = np.copy(init_vel)\n",
    "next_step_velocity = np.copy(init_vel)\n",
    "\n",
    "for i in range(number_of_steps):\n",
    "    next_step_velocity += np.random.uniform(low=-100, high=100, size=(2, 2))\n",
    "    vel_steps =  np.concatenate((vel_steps, next_step_velocity), axis=1, out=None)\n",
    "\n",
    "print(vel_steps)"
   ]
  },
  {
   "cell_type": "code",
   "execution_count": null,
   "id": "julian-yeast",
   "metadata": {},
   "outputs": [],
   "source": []
  },
  {
   "cell_type": "code",
   "execution_count": null,
   "id": "minimal-monitor",
   "metadata": {},
   "outputs": [],
   "source": []
  }
 ],
 "metadata": {
  "kernelspec": {
   "display_name": "Python 3",
   "language": "python",
   "name": "python3"
  },
  "language_info": {
   "codemirror_mode": {
    "name": "ipython",
    "version": 3
   },
   "file_extension": ".py",
   "mimetype": "text/x-python",
   "name": "python",
   "nbconvert_exporter": "python",
   "pygments_lexer": "ipython3",
   "version": "3.8.6"
  }
 },
 "nbformat": 4,
 "nbformat_minor": 5
}
