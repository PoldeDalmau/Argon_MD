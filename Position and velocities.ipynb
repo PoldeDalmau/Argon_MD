{
 "cells": [
  {
   "cell_type": "code",
<<<<<<< HEAD
   "execution_count": 2,
   "id": "internal-origin",
=======
   "execution_count": 64,
   "id": "dietary-monthly",
>>>>>>> 09e10bb09e53b2bcfd086ea6f6760c3056879ff8
   "metadata": {},
   "outputs": [],
   "source": [
    "import skeleton as s\n",
    "import numpy as np"
   ]
  },
  {
   "cell_type": "markdown",
<<<<<<< HEAD
   "id": "advance-count",
=======
   "id": "digital-apple",
>>>>>>> 09e10bb09e53b2bcfd086ea6f6760c3056879ff8
   "metadata": {},
   "source": [
    "1st column: x_coordinate, \n",
    "second column: y_coordinate;\n",
    "size(number of particles, number of dimensions)"
   ]
  },
  {
   "cell_type": "code",
<<<<<<< HEAD
   "execution_count": 3,
   "id": "chief-growth",
=======
   "execution_count": 65,
   "id": "utility-piano",
>>>>>>> 09e10bb09e53b2bcfd086ea6f6760c3056879ff8
   "metadata": {},
   "outputs": [
    {
     "name": "stdout",
     "output_type": "stream",
     "text": [
      "pos\n",
<<<<<<< HEAD
      " [[0.29411138 0.02089936]\n",
      " [0.99442135 0.79080608]] \n",
      " vel\n",
      " [[ 213.8707139  -373.33513015]\n",
      " [ 423.78747688   28.65333691]]\n",
      "y_values\n",
      " [0.02089936 0.79080608]\n"
=======
      " [[0.67795326 0.2479501 ]\n",
      " [0.0109214  0.79719612]] \n",
      " vel\n",
      " [[ 158.95179498  370.64780547]\n",
      " [ 310.79511118 -348.90423435]]\n",
      "y_values\n",
      " [0.2479501  0.79719612]\n"
>>>>>>> 09e10bb09e53b2bcfd086ea6f6760c3056879ff8
     ]
    }
   ],
   "source": [
    "init_pos = np.random.uniform(low=0, high=1.0, size=(2, 2))\n",
    "init_vel = np.random.uniform(low=-430, high=430, size=(2, 2))\n",
    "\n",
    "print(\"pos\\n\", init_pos,\"\\n vel\\n\" ,init_vel)\n",
    "print(\"y_values\\n\", init_pos[:, 1])"
   ]
  },
  {
   "cell_type": "code",
<<<<<<< HEAD
   "execution_count": 4,
   "id": "paperback-dodge",
   "metadata": {},
   "outputs": [],
   "source": [
    "def function(init_pos, init_vel):\n",
    "    later_positions = np.random.uniform(low=0, high=1.0, size=(2, 2))\n",
    "    np.concatenate((init_pos, later_positions), axis=1, out=None)\n",
    "    \n",
    "function(init_pos, init_vel)"
   ]
  },
  {
   "cell_type": "code",
   "execution_count": 5,
   "id": "critical-sponsorship",
=======
   "execution_count": 66,
   "id": "packed-partition",
>>>>>>> 09e10bb09e53b2bcfd086ea6f6760c3056879ff8
   "metadata": {},
   "outputs": [
    {
     "name": "stdout",
     "output_type": "stream",
     "text": [
      "later positions\n",
<<<<<<< HEAD
      " [[0.38023047 0.42149282]\n",
      " [1.95008091 1.18526632]]\n"
=======
      " [[0.86605558 0.9470161 ]\n",
      " [0.1912903  1.36547987]]\n"
>>>>>>> 09e10bb09e53b2bcfd086ea6f6760c3056879ff8
     ]
    },
    {
     "data": {
      "text/plain": [
<<<<<<< HEAD
       "array([[0.29411138, 0.02089936, 0.38023047, 0.42149282],\n",
       "       [0.99442135, 0.79080608, 1.95008091, 1.18526632]])"
      ]
     },
     "execution_count": 5,
=======
       "array([[0.67795326, 0.2479501 , 0.86605558, 0.9470161 ],\n",
       "       [0.0109214 , 0.79719612, 0.1912903 , 1.36547987]])"
      ]
     },
     "execution_count": 66,
>>>>>>> 09e10bb09e53b2bcfd086ea6f6760c3056879ff8
     "metadata": {},
     "output_type": "execute_result"
    }
   ],
   "source": [
    "later_positions = init_pos + np.random.uniform(low=0, high=1.0, size=(2, 2))\n",
    "print(\"later positions\\n\" , later_positions)\n",
    "np.concatenate((init_pos, later_positions), axis=1, out=None)"
   ]
  },
  {
   "cell_type": "markdown",
<<<<<<< HEAD
   "id": "horizontal-dallas",
=======
   "id": "solid-dublin",
>>>>>>> 09e10bb09e53b2bcfd086ea6f6760c3056879ff8
   "metadata": {},
   "source": [
    "No boundary condition yet"
   ]
  },
  {
   "cell_type": "code",
<<<<<<< HEAD
   "execution_count": 10,
   "id": "extended-condition",
=======
   "execution_count": 67,
   "id": "chief-highlight",
>>>>>>> 09e10bb09e53b2bcfd086ea6f6760c3056879ff8
   "metadata": {},
   "outputs": [
    {
     "name": "stdout",
     "output_type": "stream",
     "text": [
<<<<<<< HEAD
      "[[5.40075283 4.86173502 5.40075283 4.86173502]\n",
      " [6.56083621 8.27568526 6.56083621 8.27568526]]\n"
=======
      "[[0.67795326 0.2479501  0.08783722 0.09862051 0.12864673 0.64258381\n",
      "  0.82752947 0.09556819]\n",
      " [0.0109214  0.79719612 0.64598299 0.85448467 0.59948018 0.06659922\n",
      "  0.39222353 0.6920052 ]]\n"
>>>>>>> 09e10bb09e53b2bcfd086ea6f6760c3056879ff8
     ]
    }
   ],
   "source": [
    "#Create a 2x8 matrix to store the position of each particle at each step in time.\n",
    "number_of_steps = 3\n",
<<<<<<< HEAD
    "new_pos = init_pos\n",
    "next_step_positions = init_pos\n",
    "for i in range(number_of_steps):\n",
    "    next_step_positions += np.random.uniform(low=0, high=1.0, size=(2, 2))\n",
    "    np.concatenate((new_pos, next_step_positions, ), axis=1, out=None)\n",
    "    new_pos =  np.concatenate((init_pos, next_step_positions, ), axis=1, out=None)\n",
    "\n",
    "print(new_pos)\n",
    "    "
=======
    "pos_steps = np.copy(init_pos)\n",
    "next_step_position = np.copy(init_pos)\n",
    "\n",
    "for i in range(number_of_steps):\n",
    "    next_step_position += np.random.uniform(low=0, high=1.0, size=(2, 2))\n",
    "    for k in range(2): #implement boundary conditions\n",
    "        for j in range(2):\n",
    "            if next_step_position[k, j] > 1:\n",
    "                next_step_position[k, j] -= 1\n",
    "            elif next_step_position[k, j] < 0:\n",
    "                next_step_position[k, j] += 1\n",
    "    pos_steps =  np.concatenate((pos_steps, next_step_position), axis=1, out=None)\n",
    "\n",
    "print(pos_steps)"
   ]
  },
  {
   "cell_type": "code",
   "execution_count": 69,
   "id": "aware-gardening",
   "metadata": {},
   "outputs": [
    {
     "name": "stdout",
     "output_type": "stream",
     "text": [
      "[[ 158.95179498  370.64780547  254.97267211  397.92851946  263.5568153\n",
      "   318.39197682  320.31665183  282.17861152]\n",
      " [ 310.79511118 -348.90423435  260.90478602 -392.71040827  168.02598328\n",
      "  -411.18831337  206.04640032 -503.5748353 ]]\n"
     ]
    }
   ],
   "source": [
    "#Create a 2x8 matrix to store the velocity of each particle at each step in time.\n",
    "vel_steps = np.copy(init_vel)\n",
    "next_step_velocity = np.copy(init_vel)\n",
    "\n",
    "for i in range(number_of_steps):\n",
    "    next_step_velocity += np.random.uniform(low=-100, high=100, size=(2, 2))\n",
    "    vel_steps =  np.concatenate((vel_steps, next_step_velocity), axis=1, out=None)\n",
    "\n",
    "print(vel_steps)"
>>>>>>> 09e10bb09e53b2bcfd086ea6f6760c3056879ff8
   ]
  },
  {
   "cell_type": "code",
   "execution_count": null,
<<<<<<< HEAD
   "id": "previous-zealand",
=======
   "id": "julian-yeast",
   "metadata": {},
   "outputs": [],
   "source": []
  },
  {
   "cell_type": "code",
   "execution_count": null,
   "id": "minimal-monitor",
>>>>>>> 09e10bb09e53b2bcfd086ea6f6760c3056879ff8
   "metadata": {},
   "outputs": [],
   "source": []
  }
 ],
 "metadata": {
  "kernelspec": {
   "display_name": "Python 3",
   "language": "python",
   "name": "python3"
  },
  "language_info": {
   "codemirror_mode": {
    "name": "ipython",
    "version": 3
   },
   "file_extension": ".py",
   "mimetype": "text/x-python",
   "name": "python",
   "nbconvert_exporter": "python",
   "pygments_lexer": "ipython3",
   "version": "3.8.6"
  }
 },
 "nbformat": 4,
 "nbformat_minor": 5
}
