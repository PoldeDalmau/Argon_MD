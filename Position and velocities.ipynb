{
 "cells": [
  {
   "cell_type": "code",
   "execution_count": 2,
   "id": "internal-origin",
   "metadata": {},
   "outputs": [],
   "source": [
    "import skeleton as s\n",
    "import numpy as np"
   ]
  },
  {
   "cell_type": "markdown",
   "id": "advance-count",
   "metadata": {},
   "source": [
    "1st column: x_coordinate, \n",
    "second column: y_coordinate;\n",
    "size(number of particles, number of dimensions)"
   ]
  },
  {
   "cell_type": "code",
   "execution_count": 3,
   "id": "chief-growth",
   "metadata": {},
   "outputs": [
    {
     "name": "stdout",
     "output_type": "stream",
     "text": [
      "pos\n",
      " [[0.29411138 0.02089936]\n",
      " [0.99442135 0.79080608]] \n",
      " vel\n",
      " [[ 213.8707139  -373.33513015]\n",
      " [ 423.78747688   28.65333691]]\n",
      "y_values\n",
      " [0.02089936 0.79080608]\n"
     ]
    }
   ],
   "source": [
    "init_pos = np.random.uniform(low=0, high=1.0, size=(2, 2))\n",
    "init_vel = np.random.uniform(low=-430, high=430, size=(2, 2))\n",
    "\n",
    "print(\"pos\\n\", init_pos,\"\\n vel\\n\" ,init_vel)\n",
    "print(\"y_values\\n\", init_pos[:, 1])"
   ]
  },
  {
   "cell_type": "code",
   "execution_count": 4,
   "id": "paperback-dodge",
   "metadata": {},
   "outputs": [],
   "source": [
    "def function(init_pos, init_vel):\n",
    "    later_positions = np.random.uniform(low=0, high=1.0, size=(2, 2))\n",
    "    np.concatenate((init_pos, later_positions), axis=1, out=None)\n",
    "    \n",
    "function(init_pos, init_vel)"
   ]
  },
  {
   "cell_type": "code",
   "execution_count": 5,
   "id": "critical-sponsorship",
   "metadata": {},
   "outputs": [
    {
     "name": "stdout",
     "output_type": "stream",
     "text": [
      "later positions\n",
      " [[0.38023047 0.42149282]\n",
      " [1.95008091 1.18526632]]\n"
     ]
    },
    {
     "data": {
      "text/plain": [
       "array([[0.29411138, 0.02089936, 0.38023047, 0.42149282],\n",
       "       [0.99442135, 0.79080608, 1.95008091, 1.18526632]])"
      ]
     },
     "execution_count": 5,
     "metadata": {},
     "output_type": "execute_result"
    }
   ],
   "source": [
    "later_positions = init_pos + np.random.uniform(low=0, high=1.0, size=(2, 2))\n",
    "print(\"later positions\\n\" , later_positions)\n",
    "np.concatenate((init_pos, later_positions), axis=1, out=None)"
   ]
  },
  {
   "cell_type": "markdown",
   "id": "horizontal-dallas",
   "metadata": {},
   "source": [
    "No boundary condition yet"
   ]
  },
  {
   "cell_type": "code",
   "execution_count": 10,
   "id": "extended-condition",
   "metadata": {},
   "outputs": [
    {
     "name": "stdout",
     "output_type": "stream",
     "text": [
      "[[5.40075283 4.86173502 5.40075283 4.86173502]\n",
      " [6.56083621 8.27568526 6.56083621 8.27568526]]\n"
     ]
    }
   ],
   "source": [
    "number_of_steps = 3\n",
    "new_pos = init_pos\n",
    "next_step_positions = init_pos\n",
    "for i in range(number_of_steps):\n",
    "    next_step_positions += np.random.uniform(low=0, high=1.0, size=(2, 2))\n",
    "    np.concatenate((new_pos, next_step_positions, ), axis=1, out=None)\n",
    "    new_pos =  np.concatenate((init_pos, next_step_positions, ), axis=1, out=None)\n",
    "\n",
    "print(new_pos)\n",
    "    "
   ]
  },
  {
   "cell_type": "code",
   "execution_count": null,
   "id": "previous-zealand",
   "metadata": {},
   "outputs": [],
   "source": []
  }
 ],
 "metadata": {
  "kernelspec": {
   "display_name": "Python 3",
   "language": "python",
   "name": "python3"
  },
  "language_info": {
   "codemirror_mode": {
    "name": "ipython",
    "version": 3
   },
   "file_extension": ".py",
   "mimetype": "text/x-python",
   "name": "python",
   "nbconvert_exporter": "python",
   "pygments_lexer": "ipython3",
   "version": "3.8.6"
  }
 },
 "nbformat": 4,
 "nbformat_minor": 5
}
