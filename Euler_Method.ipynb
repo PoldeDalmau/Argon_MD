{
 "cells": [
  {
   "cell_type": "code",
   "execution_count": null,
   "id": "double-yesterday",
   "metadata": {},
   "outputs": [],
   "source": [
    "import numpy as np"
   ]
  },
  {
   "cell_type": "markdown",
   "id": "convertible-egyptian",
   "metadata": {},
   "source": [
    "Our convention:\n",
    "1st column: x_coordinates;\n",
    "second column: y_coordinates;\n",
    "size(number of particles, number of dimensions)"
   ]
  },
  {
   "cell_type": "code",
   "execution_count": 3,
   "id": "agreed-parker",
   "metadata": {},
   "outputs": [
    {
     "name": "stdout",
     "output_type": "stream",
     "text": [
      "pos\n",
      " [[0.02819509 0.0564662 ]\n",
      " [0.02432706 0.46478636]] \n",
      " vel\n",
      " [[ 340.15404255  300.34572505]\n",
      " [-396.31650974 -211.44809838]]\n"
     ]
    }
   ],
   "source": [
    "init_pos = np.random.uniform(low=0, high=1.0, size=(2, 2))\n",
    "init_vel = np.random.uniform(low=-430, high=430, size=(2, 2))\n",
    "print(\"pos\\n\", init_pos,\"\\n vel\\n\" ,init_vel)"
   ]
  },
  {
   "cell_type": "markdown",
   "id": "according-pasta",
   "metadata": {},
   "source": [
    "Other group member is working on the function with the forces, for now I use a \"random pseudo force\". Output will be a force. A matrix of size(number of particles, number of dimensions) just like with the positions and the velocities. Also the force components and on which particle tehy act follow the same convention."
   ]
  },
  {
   "cell_type": "code",
   "execution_count": 4,
   "id": "automatic-currency",
   "metadata": {},
   "outputs": [
    {
     "data": {
      "text/plain": [
       "array([[ 351.18768908,  117.31230417],\n",
       "       [-109.15086849, -362.95157925]])"
      ]
     },
     "execution_count": 4,
     "metadata": {},
     "output_type": "execute_result"
    }
   ],
   "source": [
    "def pseudo_force(init_pos):        #force only depends on positions\n",
    "    return (np.random.uniform(low=-430, high=430, size=(2, 2)))\n",
    "pseudo_force(init_pos)"
   ]
  },
  {
   "cell_type": "markdown",
   "id": "standing-bedroom",
   "metadata": {},
   "source": [
    "Also, I want to work with an array containing positions and velocities at different times so I can see how I have to deal with that:"
   ]
  },
  {
   "cell_type": "code",
   "execution_count": 24,
   "id": "sixth-avatar",
   "metadata": {},
   "outputs": [
    {
     "name": "stdout",
     "output_type": "stream",
     "text": [
      "positions:\n",
      " [[ 9.43716866 10.19276645  9.43716866 10.19276645 10.09017937 10.47448812]\n",
      " [ 7.03886099  8.13186399  7.03886099  8.13186399  7.9901236   8.91681347]]\n"
     ]
    }
   ],
   "source": [
    "number_of_steps = 2\n",
    "final_matrix_pos = init_pos\n",
    "final_matrix_vel = init_vel\n",
    "next_step_positions = init_pos\n",
    "next_step_velocities = init_vel\n",
    "\n",
    "for i in range(number_of_steps):      # This loop is an older version with mistakes but we'll keep it for now\n",
    "    next_step_positions += np.random.uniform(low=0, high=1.0, size=(2, 2))\n",
    "    next_step_velocities += np.random.uniform(low=0, high=1.0, size=(2, 2))\n",
    "    final_matrix_pos = np.concatenate((final_matrix_pos, next_step_positions), axis=1, out=None)\n",
    "    final_matrix_vel = np.concatenate((final_matrix_vel, next_step_positions), axis=1, out=None)\n",
    "\n",
    "print(\"positions:\\n\", final_matrix_pos)\n",
    "#print(\"velocities:\\n\", final_matrix_vel)"
   ]
  },
  {
   "cell_type": "raw",
   "id": "valued-temperature",
   "metadata": {},
   "source": [
    "It will be a bit messy to find individual coordinates and velocity components. Here we will work with the following:\n",
    "We take the \"most recent positions/velocities in the following way:"
   ]
  },
  {
   "cell_type": "code",
   "execution_count": 74,
   "id": "detailed-going",
   "metadata": {},
   "outputs": [
    {
     "data": {
      "text/plain": [
       "array([[10.09017937, 10.47448812],\n",
       "       [ 7.9901236 ,  8.91681347]])"
      ]
     },
     "execution_count": 74,
     "metadata": {},
     "output_type": "execute_result"
    }
   ],
   "source": [
    "final_matrix_pos[:,-2:]"
   ]
  },
  {
   "cell_type": "raw",
   "id": "funny-classic",
   "metadata": {},
   "source": [
    "Now we'll implement the Euler Method"
   ]
  },
  {
   "attachments": {
    "786ae5b2-ee39-481b-be93-f5e464b2698f.png": {
     "image/png": "[encoded data removed]"
    }
   },
   "cell_type": "markdown",
   "id": "boring-grenada",
   "metadata": {},
   "source": [
    "![image.png](attachment:786ae5b2-ee39-481b-be93-f5e464b2698f.png)"
   ]
  },
  {
   "cell_type": "code",
   "execution_count": 16,
   "id": "coordinated-bibliography",
   "metadata": {},
   "outputs": [],
   "source": [
    "time_step = 1\n",
    "\n",
    "def euler(final_matrix_pos, final_matrix_vel):\n",
    "    return\n",
    "    \n",
    "euler(final_matrix_pos, final_matrix_vel)"
   ]
  },
  {
   "cell_type": "code",
   "execution_count": null,
   "id": "assisted-poison",
   "metadata": {},
   "outputs": [],
   "source": []
  }
 ],
 "metadata": {
  "kernelspec": {
   "display_name": "Python 3",
   "language": "python",
   "name": "python3"
  },
  "language_info": {
   "codemirror_mode": {
    "name": "ipython",
    "version": 3
   },
   "file_extension": ".py",
   "mimetype": "text/x-python",
   "name": "python",
   "nbconvert_exporter": "python",
   "pygments_lexer": "ipython3",
   "version": "3.8.6"
  }
 },
 "nbformat": 4,
 "nbformat_minor": 5
}
