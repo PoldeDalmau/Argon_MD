{
 "cells": [
  {
   "cell_type": "code",
   "execution_count": 1,
   "id": "dedicated-syndicate",
   "metadata": {},
   "outputs": [],
   "source": [
    "import numpy as np"
   ]
  },
  {
   "cell_type": "code",
   "execution_count": 5,
   "id": "adapted-duplicate",
   "metadata": {},
   "outputs": [],
   "source": [
    "#declare some variables\n",
    "n = 2   # number of particles\n",
    "L = 1   #Length\n",
    "W = 1   #Width \n",
    "dimensions = 2\n",
    "init_pos = np.array([[0.1, 0.8],[0.4, 0.6]])"
   ]
  },
  {
   "cell_type": "code",
   "execution_count": 28,
   "id": "supposed-outreach",
   "metadata": {},
   "outputs": [],
   "source": [
    "def atomic_distances(pos, L=1, W=1):\n",
    "    rel_pos = pos[:, None, :] - pos[None, :, :]                 # returns one matrix for each particle. Relative distances within the box\n",
    "    rel_dist = np.zeros((n, n, 1))\n",
    "    for i in range(n):\n",
    "        for k in range(n):\n",
    "            for l in range(dimensions):\n",
    "                if l == 0: # x-values i.e. change by L\n",
    "                    rel_pos[i,k,l] = min(rel_pos[i,k,l], (rel_pos[i,k,l]+L)%L, (rel_pos[i,k,l]-L)%L, rel_pos[i,k,l]+L, rel_pos[i,k,l]-L, key=abs) # takes the smallest distance comparing all images\n",
    "                if l == 1:\n",
    "                    rel_pos[i,k,l] = min(rel_pos[i,k,l], (rel_pos[i,k,l]+W)%W, (rel_pos[i,k,l]-W)%W, rel_pos[i,k,l]+W, rel_pos[i,k,l]-W, key=abs)\n",
    "    for i in range(n):    \n",
    "        for k in range(n):\n",
    "            rel_dist[i,k] = np.sqrt(np.dot(rel_pos[i,k,:],rel_pos[i,k,:]))\n",
    "            \n",
    "    return rel_pos, rel_dist"
   ]
  },
  {
   "cell_type": "code",
   "execution_count": 29,
   "id": "instant-insight",
   "metadata": {},
   "outputs": [
    {
     "data": {
      "text/plain": [
       "(array([[[ 0. ,  0. ],\n",
       "         [-0.3,  0.2]],\n",
       " \n",
       "        [[ 0.3, -0.2],\n",
       "         [ 0. ,  0. ]]]),\n",
       " array([[[0.        ],\n",
       "         [0.36055513]],\n",
       " \n",
       "        [[0.36055513],\n",
       "         [0.        ]]]))"
      ]
     },
     "execution_count": 29,
     "metadata": {},
     "output_type": "execute_result"
    }
   ],
   "source": [
    "atomic_distances(init_pos)"
   ]
  },
  {
   "cell_type": "raw",
   "id": "deluxe-disorder",
   "metadata": {},
   "source": [
    "The output is:\n",
    "    rel_pos: One array for each particle with relative positions to other particles (for now two arrays). \n",
    "             Of course the relative position with itself is 0.\n",
    "             (n,n,dimensions)\n",
    "    rel_dist: One array for each particle with distances to other particles\n",
    "             (n,n,1)"
   ]
  },
  {
   "cell_type": "raw",
   "id": "civic-youth",
   "metadata": {},
   "source": [
    "small comment: \n",
    "Python suggested to do this with a.any or a.all when I tried it without the for-loops (without success) "
   ]
  }
 ],
 "metadata": {
  "kernelspec": {
   "display_name": "Python 3",
   "language": "python",
   "name": "python3"
  },
  "language_info": {
   "codemirror_mode": {
    "name": "ipython",
    "version": 3
   },
   "file_extension": ".py",
   "mimetype": "text/x-python",
   "name": "python",
   "nbconvert_exporter": "python",
   "pygments_lexer": "ipython3",
   "version": "3.8.6"
  }
 },
 "nbformat": 4,
 "nbformat_minor": 5
}
