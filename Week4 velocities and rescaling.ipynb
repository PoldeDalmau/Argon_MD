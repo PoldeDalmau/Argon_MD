{
 "cells": [
  {
   "cell_type": "code",
   "execution_count": 1,
   "id": "broad-aurora",
   "metadata": {},
   "outputs": [],
   "source": [
    "import numpy as np\n",
    "import matplotlib.pyplot as plt"
   ]
  },
  {
   "cell_type": "raw",
   "id": "functioning-assistant",
   "metadata": {},
   "source": [
    "Normalize units:"
   ]
  },
  {
   "cell_type": "markdown",
   "id": "congressional-paint",
   "metadata": {},
   "source": [
    "$\\tilde t = t / (\\frac{m\\sigma^2}{\\epsilon})^{1/2}$"
   ]
  },
  {
   "cell_type": "markdown",
   "id": "attempted-census",
   "metadata": {},
   "source": [
    "$\\tilde x = x/\\sigma$"
   ]
  },
  {
   "cell_type": "markdown",
   "id": "running-catering",
   "metadata": {},
   "source": [
    "$\\tilde v = v/\\sqrt{\\epsilon/m}$"
   ]
  },
  {
   "cell_type": "markdown",
   "id": "defined-norwegian",
   "metadata": {},
   "source": [
    "$\\tilde U (\\tilde r) = U(r)/\\epsilon$"
   ]
  },
  {
   "cell_type": "markdown",
   "id": "computational-identification",
   "metadata": {},
   "source": [
    "Kinetic energy in natural units: $\\tilde K(\\tilde v) = \\frac{K(v)}{\\epsilon}= \\frac{1}{2 \\epsilon}m\\tilde v^2 \\frac{\\epsilon}{m} = \\frac{1}{2}\\tilde v^2$"
   ]
  },
  {
   "cell_type": "markdown",
   "id": "dynamic-science",
   "metadata": {},
   "source": [
    "$\\nabla = \\frac{1}{\\sigma} \\tilde\\nabla$"
   ]
  },
  {
   "cell_type": "code",
   "execution_count": 2,
   "id": "killing-interpretation",
   "metadata": {},
   "outputs": [],
   "source": [
    "n = 6   #number of particles\n",
    "L = 1000   #System is of size LxL with the origin at the center. The units of L are of 1/s\n",
    "T = 100 # the systhem is initialized at room temperature\n",
    "init_pos = np.array([[0, 0, 0],[L-1, L-1, L-1], [847, 325, 638], [748, 475, 224], [448, 45, 834], [97, 145, 564]])\n",
    "#init_pos = np.random.uniform(low = 0, high = 1000, size = (n,3))\n",
    "#init_vel = np.random.normal(np.sqrt(T/119.8), size = (n, 3))\n",
    "#init_vel = init_vel - np.mean(init_vel, axis=0)\n",
    "init_vel = np.zeros((n,3))\n",
    "time_step = float(1e-3)\n",
    "# e =  1.65 * pow(10,-21)\n",
    "# s =  3.405 * pow(10,-10)\n",
    "# m =  6.6335 * pow(10, -26) #mass of argon atom in kg\n",
    "\n",
    "#number_of_steps = 2000         #strange that verlet and euler give exact same result...\n",
    "number_of_steps = int(10000)       # here we see verlet doesn't let the energy diverge. still oscillates\n",
    "dimensions = 3\n",
    "times = np.arange(0,(number_of_steps + 1) * time_step, time_step)\n",
    "\n"
   ]
  },
  {
   "cell_type": "code",
   "execution_count": 3,
   "id": "technical-serial",
   "metadata": {},
   "outputs": [],
   "source": [
    "#test for Boltzmann distribution. Must be run with at least 1000 particles\n",
    "if n > 500:\n",
    "    v_norm = np.linalg.norm(init_vel, axis=1)\n",
    "    plt.hist(v_norm, 20)\n",
    "    plt.show()"
   ]
  },
  {
   "cell_type": "code",
   "execution_count": 4,
   "id": "suspected-turtle",
   "metadata": {},
   "outputs": [],
   "source": [
    "def atomic_distances(pos, output): # output = 0 gives the relative distances, output = 1 gives the relative positions\n",
    "    rel_pos = pos[:, None, :] - pos[None, :, :]                 # returns one matrix for each particle. Relative distances Lithin the box\n",
    "    n = np.shape(rel_pos)[0] # number of particles\n",
    "    for i in range(n):\n",
    "        for k in range(n):\n",
    "            for l in range(3):\n",
    "                rel_pos[i,k,l] = min(rel_pos[i,k,l], rel_pos[i,k,l]+L, rel_pos[i,k,l]-L, key=abs) # takes the smallest distance comparing all images             \n",
    "    r = np.sqrt(np.sum((rel_pos)**2, axis=2)) # n x n simmetric matrix, r[i,j] is the distance between the i-th and the j-th particles\n",
    "    \n",
    "    if output == 0:\n",
    "        return r\n",
    "    elif output == 1:\n",
    "        return rel_pos\n",
    "    else:\n",
    "        print(\"The second parameter in the atomic_distances must be either 0(for distances) or 1(for positions)\")"
   ]
  },
  {
   "cell_type": "code",
   "execution_count": 5,
   "id": "stupid-michigan",
   "metadata": {},
   "outputs": [],
   "source": [
    "#compute the forces on the particles at each timestep\n",
    "\n",
    "def lj_force(position):\n",
    "    rel_pos = atomic_distances(position[:,-3:], 1) # calculates the relative position of the particles, with pos = np.array(N_particels, 3)\n",
    "    r = atomic_distances(position[:,-3:], 0) # n x n simmetric matrix, r[i,j] is the distance between the i-th and the j-th particles\n",
    "    R = np.zeros((n,n,3))\n",
    "    for i in range(n):\n",
    "        for j in range (n):\n",
    "            for k in range (3):\n",
    "                R[i,j,k] = r [i,j]\n",
    "                if r[i,j] == 0:\n",
    "                    R[i,j,k] = np.inf\n",
    "    # R are n matricies in the form nx3, where the i-th matrix contains the distances from the i-th particle, calling R_i the i-th matrix, \n",
    "    # R_i[j,k] gives the distance between the i-th and the j-th particles and is the same value for all the 'k in range(3)', i.e. on all the j-th line\n",
    "    # in addition, R_i[i,k] (i-th line of the i-th matrix) is equal to 1 instead of 0 in order not to divide by 0 in the computation of F\n",
    "    # we can do this since rel_pos_i[i,k] multiplies everything in F and is equal to 0\n",
    "    F = np.zeros((n,n,3))\n",
    "    F = -24*rel_pos*((2*(1/R)**12)-((1/R)**6))\n",
    "    F_matrix = np.sum(F, axis=0)  \n",
    "    return F_matrix # The output is an nx3 matrix"
   ]
  },
  {
   "cell_type": "code",
   "execution_count": 6,
   "id": "attractive-rabbit",
   "metadata": {},
   "outputs": [],
   "source": [
    "def euler(final_matrix_pos, final_matrix_vel):\n",
    "    latest_pos = np.copy(final_matrix_pos[:,-3:])# -3 is for the dimensions\n",
    "    latest_vel = np.copy(final_matrix_vel[:,-3:])\n",
    "    \n",
    "    new_latest_pos = latest_pos + latest_vel * time_step\n",
    "    new_latest_vel = latest_vel + time_step * lj_force(latest_pos)\n",
    "    return new_latest_pos, new_latest_vel\n",
    "\n",
    "def verlet(final_matrix_pos, final_matrix_vel):\n",
    "    \n",
    "    latest_pos = np.copy(final_matrix_pos[:,-3:])# -3 is for the dimensions\n",
    "    latest_vel = np.copy(final_matrix_vel[:,-3:])\n",
    "    \n",
    "    new_latest_pos = latest_pos + time_step * latest_vel + (1/2) * time_step**2  * lj_force(latest_pos)\n",
    "    new_latest_vel = latest_vel + (time_step/2) * (lj_force(new_latest_pos) + lj_force(latest_pos))\n",
    "    return new_latest_pos, new_latest_vel\n"
   ]
  },
  {
   "cell_type": "code",
   "execution_count": 7,
   "id": "official-range",
   "metadata": {},
   "outputs": [],
   "source": [
    "#function to compute the kinetic energy\n",
    "def kin_en(v): #v is the last step velocity\n",
    "    K = 0.5*np.sum(v**2)\n",
    "    return K"
   ]
  },
  {
   "cell_type": "code",
   "execution_count": 8,
   "id": "sustained-mouse",
   "metadata": {},
   "outputs": [],
   "source": [
    "#function to compute the potential energy\n",
    "def pot_en(position): #position is the matrix with all the positions stored in it\n",
    "    current_pos = np.copy(position[:,-3:]) #nx3 matrix with the positions at the last time step\n",
    "    rel_pos = atomic_distances(current_pos, 1) # with pos = np.array(n, 3)\n",
    "    r = atomic_distances(current_pos, 0) #n x n simmetric matrix, r[i,j] is the distance between the i-th and the j-th particles\n",
    "    i = np.where(r == 0) # indices where the r matrix is 0\n",
    "    ones = np.zeros((n,n)) # nxn matrix\n",
    "    ones[i] = 1 # matrix with ones where r has zeros\n",
    "    R = r + ones  # same matrix as r, but with ones where r has zeros. we do this to avoid dividing by zero\n",
    "    u = 4*(1/R**12 - 1/R**6)\n",
    "    U = np.sum(u)\n",
    "    return U"
   ]
  },
  {
   "cell_type": "code",
   "execution_count": 9,
   "id": "electoral-delta",
   "metadata": {},
   "outputs": [
    {
     "name": "stdout",
     "output_type": "stream",
     "text": [
      "using Verlet:\n",
      "\n",
      "Init energy: [-0.28532236]\n",
      "\n"
     ]
    },
    {
     "data": {
      "image/png": "[encoded data removed]",
      "text/plain": [
       "<Figure size 432x288 with 1 Axes>"
      ]
     },
     "metadata": {
      "needs_background": "light"
     },
     "output_type": "display_data"
    }
   ],
   "source": [
    "def simulate(algorithm):\n",
    "    #Create a 2x8 matrix to store the velocity of each particle at each step in time.\n",
    "    next_step_velocity = np.copy(init_vel)\n",
    "\n",
    "    #Create a 2x8 matrix to store the position of each particle at each step in time.\n",
    "    next_step_position = np.copy(init_pos)\n",
    "    \n",
    "    final_matrix_pos = np.copy(init_pos)\n",
    "    final_matrix_vel = np.copy(init_vel)\n",
    "    \n",
    "    final_vector_kin = np.array([kin_en(init_vel)])\n",
    "    final_vector_pot = np.array([pot_en(final_matrix_pos)])\n",
    "    final_vector_energy = np.array([kin_en(init_vel) + pot_en(final_matrix_pos)])\n",
    "    \n",
    "    print(\"Init energy:\" , final_vector_energy)\n",
    "\n",
    "    final_rel_dist = atomic_distances(init_pos, 0)\n",
    "    j = 0\n",
    "\n",
    "    for i in range(number_of_steps):\n",
    "        next_step_position, next_step_velocity = algorithm(final_matrix_pos, final_matrix_vel)\n",
    "        next_step_position = next_step_position % L\n",
    "        final_matrix_pos =  np.concatenate((final_matrix_pos, next_step_position), axis=1, out=None)\n",
    "        final_matrix_vel =  np.concatenate((final_matrix_vel, next_step_velocity), axis=1, out=None)\n",
    "        final_vector_kin = np.concatenate((final_vector_kin, np.array([kin_en(next_step_velocity)])), axis = 0, out = None)\n",
    "        final_vector_pot = np.concatenate((final_vector_pot, np.array([pot_en(final_matrix_pos)])), axis=0, out=None)\n",
    "        final_vector_energy = np.concatenate((final_vector_energy, np.array([kin_en(next_step_velocity) + pot_en(final_matrix_pos)])), axis=0, out=None)\n",
    "        final_rel_dist = np.concatenate((final_rel_dist, atomic_distances(next_step_position, 0)), axis = 1, out = None)\n",
    "        \n",
    "        window = 100\n",
    "        if i%window == 0 and abs(final_vector_energy[-1] - np.sum(final_vector_energy, initial=-10)/11) > 20 and number_of_steps/(window*j) < 0.8:\n",
    "            j = j+1\n",
    "            l = np.sqrt((3*(n-1)*T)/(2*final_vector_kin[-1]*119.8))\n",
    "            final_matrix_vel = final_matrix_vel * l\n",
    "    print(j)\n",
    "\n",
    "    #print(\"Positions:\\n\" , final_matrix_pos)\n",
    "    #print(\"Velocities:\\n\" , init_vel)\n",
    "    #print(\"Energy:\\n\" , final_vector_pot)\n",
    "    #print(final_vector_energy)\n",
    "    #print(final_vector_pot)\n",
    "    #print(final_rel_dist)\n",
    "\n",
    "\n",
    "    print(\"\")\n",
    "    plt.plot(times, final_vector_energy, label = \"Total\")\n",
    "    plt.plot(times, final_vector_kin, label = \"Kinetic\")\n",
    "    plt.plot(times, final_vector_pot, label = \"Potential\")\n",
    "    plt.legend()\n",
    "    plt.title(\"Energy over time\")\n",
    "    plt.xlabel(\"$t/(m\\sigma^2/\\epsilon)^{1/2}$\")\n",
    "    plt.ylabel(\"$E/\\epsilon$\")\n",
    "    plt.show()\n",
    "    \n",
    "#print(\"using Euler:\\n\")\n",
    "#simulate(euler)\n",
    "print(\"using Verlet:\\n\")\n",
    "simulate(verlet)\n"
   ]
  },
  {
   "cell_type": "code",
   "execution_count": 10,
   "id": "photographic-hearing",
   "metadata": {},
   "outputs": [],
   "source": [
    "#dU/dr = -24*((2*(1/R)**11)-((1/R)**5))"
   ]
  }
 ],
 "metadata": {
  "kernelspec": {
   "display_name": "Python 3",
   "language": "python",
   "name": "python3"
  },
  "language_info": {
   "codemirror_mode": {
    "name": "ipython",
    "version": 3
   },
   "file_extension": ".py",
   "mimetype": "text/x-python",
   "name": "python",
   "nbconvert_exporter": "python",
   "pygments_lexer": "ipython3",
   "version": "3.8.6"
  }
 },
 "nbformat": 4,
 "nbformat_minor": 5
}
