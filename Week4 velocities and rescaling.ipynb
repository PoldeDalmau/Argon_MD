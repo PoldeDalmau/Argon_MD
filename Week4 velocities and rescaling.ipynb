{
 "cells": [
  {
   "cell_type": "code",
   "execution_count": 1,
   "id": "illegal-drink",
   "metadata": {},
   "outputs": [],
   "source": [
    "import numpy as np\n",
    "import matplotlib.pyplot as plt"
   ]
  },
  {
   "cell_type": "raw",
   "id": "threatened-melissa",
   "metadata": {},
   "source": [
    "Normalize units:"
   ]
  },
  {
   "cell_type": "markdown",
   "id": "alternate-mailman",
   "metadata": {},
   "source": [
    "$\\tilde t = t / (\\frac{m\\sigma^2}{\\epsilon})^{1/2}$"
   ]
  },
  {
   "cell_type": "markdown",
   "id": "beautiful-arbor",
   "metadata": {},
   "source": [
    "$\\tilde x = x/\\sigma$"
   ]
  },
  {
   "cell_type": "markdown",
   "id": "lyric-attack",
   "metadata": {},
   "source": [
    "$\\tilde v = v/\\sqrt{\\epsilon/m}$"
   ]
  },
  {
   "cell_type": "markdown",
   "id": "separated-riding",
   "metadata": {},
   "source": [
    "$\\tilde U (\\tilde r) = U(r)/\\epsilon$"
   ]
  },
  {
   "cell_type": "markdown",
   "id": "structured-pencil",
   "metadata": {},
   "source": [
    "Kinetic energy in natural units: $\\tilde K(\\tilde v) = \\frac{K(v)}{\\epsilon}= \\frac{1}{2 \\epsilon}m\\tilde v^2 \\frac{\\epsilon}{m} = \\frac{1}{2}\\tilde v^2$"
   ]
  },
  {
   "cell_type": "markdown",
   "id": "quantitative-rehabilitation",
   "metadata": {},
   "source": [
    "$\\nabla = \\frac{1}{\\sigma} \\tilde\\nabla$"
   ]
  },
  {
   "cell_type": "code",
   "execution_count": 2,
   "id": "early-trainer",
   "metadata": {},
   "outputs": [],
   "source": [
    "n = 3   #number of particles\n",
    "L = 1000   #System is of size LxL with the origin at the center. The units of L are of 1/s\n",
    "T = 300 # the systhem is initialized at room temperature\n",
    "init_pos = np.array([[0, 0, 0],[L-1, L-1, L-1], [847, 325, 638]])\n",
    "#init_vel = np.zeros((n, 3))\n",
    "#init_vel = np.array([[0.1, 0.1, 0.1],[0.1, 0.1, 0.1], [0.1, 0.1, 0.1]])\n",
    "init_vel = np.random.normal(np.sqrt(T/119.8), size = (n, 3))\n",
    "init_vel = init_vel - np.mean(init_vel, axis=0)\n",
    "time_step = float(1e-4)\n",
    "# e =  1.65 * pow(10,-21)\n",
    "# s =  3.405 * pow(10,-10)\n",
    "# m =  6.6335 * pow(10, -26) #mass of argon atom in kg\n",
    "\n",
    "#number_of_steps = 2000         #strange that verlet and euler give exact same result...\n",
    "number_of_steps = int(5000)       # here we see verlet doesn't let the energy diverge. still oscillates\n",
    "dimensions = 3\n",
    "\n"
   ]
  },
  {
   "cell_type": "code",
   "execution_count": 3,
   "id": "demographic-mailman",
   "metadata": {},
   "outputs": [],
   "source": [
    "#print(\"initial pos\\n\", init_pos,\"\\n initial vel\\n\" ,init_vel)\n",
    "times = np.arange(0,(number_of_steps + 1) * time_step, time_step)"
   ]
  },
  {
   "cell_type": "code",
   "execution_count": 4,
   "id": "silver-joining",
   "metadata": {},
   "outputs": [],
   "source": [
    "W = L   #Width \n",
    "K = L   #Depth\n",
    "def atomic_distances(pos, output, L=1, W=1): # output = 0 gives the relative distances, output = 1 gives the relative positions\n",
    "    rel_pos = pos[:, None, :] - pos[None, :, :]                 # returns one matrix for each particle. Relative distances within the box\n",
    "    rel_dist = np.zeros((n, n, 1))\n",
    "    for i in range(n):\n",
    "        for k in range(n):\n",
    "            for l in range(dimensions):\n",
    "                if l == 0: # x-values i.e. change by L\n",
    "                    rel_pos[i,k,l] = min(rel_pos[i,k,l], (rel_pos[i,k,l]+L)%L, (rel_pos[i,k,l]-L)%L, rel_pos[i,k,l]+L, rel_pos[i,k,l]-L, key=abs) # takes the smallest distance comparing all images\n",
    "                if l == 1:\n",
    "                    rel_pos[i,k,l] = min(rel_pos[i,k,l], (rel_pos[i,k,l]+W)%W, (rel_pos[i,k,l]-W)%W, rel_pos[i,k,l]+W, rel_pos[i,k,l]-W, key=abs)\n",
    "                if l == 2:\n",
    "                    rel_pos[i,k,l] = min(rel_pos[i,k,l], (rel_pos[i,k,l]+K)%K, (rel_pos[i,k,l]-K)%K, rel_pos[i,k,l]+K, rel_pos[i,k,l]-K, key=abs)\n",
    "    for i in range(n):    \n",
    "        for k in range(n):\n",
    "            rel_dist[i,k] = np.sqrt(np.dot(rel_pos[i,k,:],rel_pos[i,k,:]))\n",
    "    \n",
    "    if output == 0:\n",
    "        return rel_dist\n",
    "    elif output == 1:\n",
    "        return rel_pos\n",
    "    else:\n",
    "        print(\"The second parameter in the atomic_distances must be either 0(for distances) or 1(for positions)\")"
   ]
  },
  {
   "cell_type": "code",
   "execution_count": 5,
   "id": "interpreted-penny",
   "metadata": {},
   "outputs": [],
   "source": [
    "#compute the forces on the particles at each timestep\n",
    "\n",
    "def lj_force(position, n):\n",
    "    rel_pos = atomic_distances(position[:,-3:], 1) # calculates the relative position of the particles, with pos = np.array(N_particels, 3)\n",
    "    n = np.shape(rel_pos)[0] # number of particles\n",
    "    r = np.sqrt(np.sum((rel_pos)**2, axis=2)) # n x n simmetric matrix, r[i,j] is the distance between the i-th and the j-th particles\n",
    "    R = np.zeros((n,n,3))\n",
    "    for i in range(n):\n",
    "        for j in range (n):\n",
    "            for k in range (3):\n",
    "                R[i,j,k] = r [i,j]\n",
    "                if r[i,j] == 0:\n",
    "                    R[i,j,k] = 1\n",
    "    # R are n matricies in the form nx3, where the i-th matrix contains the distances from the i-th particle, calling R_i the i-th matrix, \n",
    "    # R_i[j,k] gives the distance between the i-th and the j-th particles and is the same value for all the 'k in range(3)', i.e. on all the j-th line\n",
    "    # in addition, R_i[i,k] (i-th line of the i-th matrix) is equal to 1 instead of 0 in order not to divide by 0 in the computation of F\n",
    "    # we can do this since rel_pos_i[i,k] multiplies everything in F and is equal to 0\n",
    "    F = np.zeros((n,n,3))\n",
    "    F = rel_pos*R\n",
    "    F = -24*rel_pos*((2*(1/R)**12)-((1/R)**6))\n",
    "    F_matrix = np.sum(F, axis=0)  \n",
    "    return F_matrix # The output is an nx3 matrix"
   ]
  },
  {
   "cell_type": "code",
   "execution_count": 6,
   "id": "peripheral-netherlands",
   "metadata": {},
   "outputs": [],
   "source": [
    "def euler(final_matrix_pos, final_matrix_vel):\n",
    "    latest_pos = np.copy(final_matrix_pos[:,-3:])# -3 is for the dimensions\n",
    "    latest_vel = np.copy(final_matrix_vel[:,-3:])\n",
    "    \n",
    "    new_latest_pos = latest_pos + latest_vel * time_step\n",
    "    new_latest_vel = latest_vel + time_step * lj_force(latest_pos, n)\n",
    "    return new_latest_pos, new_latest_vel\n",
    "\n",
    "def verlet(final_matrix_pos, final_matrix_vel):\n",
    "    \n",
    "    latest_pos = np.copy(final_matrix_pos[:,-3:])# -3 is for the dimensions\n",
    "    latest_vel = np.copy(final_matrix_vel[:,-3:])\n",
    "    \n",
    "    new_latest_pos = latest_pos + time_step * latest_vel + (1/2) * time_step**2  * lj_force(latest_pos, n)\n",
    "    new_latest_vel = latest_vel + (time_step/2) * (lj_force(new_latest_pos, n) + lj_force(latest_pos, n))\n",
    "    return new_latest_pos, new_latest_vel\n"
   ]
  },
  {
   "cell_type": "code",
   "execution_count": 7,
   "id": "interstate-consciousness",
   "metadata": {},
   "outputs": [],
   "source": [
    "#function to compute the kinetic energy\n",
    "def kin_en(v): #v is the last step velocity\n",
    "    K = 0.5*np.sum(v**2)\n",
    "    return K"
   ]
  },
  {
   "cell_type": "code",
   "execution_count": 8,
   "id": "agreed-mason",
   "metadata": {},
   "outputs": [
    {
     "data": {
      "text/plain": [
       "-7.169479379250347e-15"
      ]
     },
     "execution_count": 8,
     "metadata": {},
     "output_type": "execute_result"
    }
   ],
   "source": [
    "#function to compute the potential energy\n",
    "def pot_en(position): #position is the matrix with all the positions stored in it\n",
    "    current_pos = np.copy(position[:,-3:]) #nx3 matrix with the positions at the last time step\n",
    "    rel_pos = atomic_distances(current_pos, 1) # with pos = np.array(n, 3)\n",
    "    r = np.sqrt(np.sum((rel_pos)**2, axis=2)) #n x n simmetric matrix, r[i,j] is the distance between the i-th and the j-th particles\n",
    "    i = np.where(r == 0) # indices where the r matrix is 0\n",
    "    ones = np.zeros((n,n)) # nxn matrix\n",
    "    ones[i] = 1 # matrix with ones where r has zeros\n",
    "    R = r + ones  # same matrix as r, but with ones where r has zeros. we do this to avoid dividing by zero\n",
    "    u = 4*(1/R**12 - 1/R**6)\n",
    "    U = np.sum(u)\n",
    "    return U\n",
    "pot_en(init_pos)"
   ]
  },
  {
   "cell_type": "code",
   "execution_count": 9,
   "id": "welsh-lodging",
   "metadata": {},
   "outputs": [
    {
     "name": "stdout",
     "output_type": "stream",
     "text": [
      "using Euler:\n",
      "\n",
      "Init energy: [4.58614259]\n",
      "49\n",
      "\n"
     ]
    },
    {
     "data": {
      "image/png": "[encoded data removed]",
      "text/plain": [
       "<Figure size 432x288 with 1 Axes>"
      ]
     },
     "metadata": {
      "needs_background": "light"
     },
     "output_type": "display_data"
    },
    {
     "name": "stdout",
     "output_type": "stream",
     "text": [
      "using Verlet:\n",
      "\n",
      "Init energy: [4.58614259]\n",
      "49\n",
      "\n"
     ]
    },
    {
     "data": {
      "image/png": "[encoded data removed]",
      "text/plain": [
       "<Figure size 432x288 with 1 Axes>"
      ]
     },
     "metadata": {
      "needs_background": "light"
     },
     "output_type": "display_data"
    }
   ],
   "source": [
    "def simulate(algorithm):\n",
    "    #Create a 2x8 matrix to store the velocity of each particle at each step in time.\n",
    "    next_step_velocity = np.copy(init_vel)\n",
    "\n",
    "    #Create a 2x8 matrix to store the position of each particle at each step in time.\n",
    "    next_step_position = np.copy(init_pos)\n",
    "    \n",
    "    final_matrix_pos = np.copy(init_pos)\n",
    "    final_matrix_vel = np.copy(init_vel)\n",
    "    \n",
    "    final_vector_kin = np.array([kin_en(init_vel)])\n",
    "    final_vector_pot = np.array([pot_en(final_matrix_pos)])\n",
    "    final_vector_energy = np.array([kin_en(init_vel) + pot_en(final_matrix_pos)])\n",
    "    \n",
    "    print(\"Init energy:\" , final_vector_energy)\n",
    "\n",
    "    final_rel_dist = atomic_distances(init_pos, 0)\n",
    "    j = 0\n",
    "\n",
    "    for i in range(number_of_steps):\n",
    "        next_step_position, next_step_velocity = algorithm(final_matrix_pos, final_matrix_vel)\n",
    "        next_step_position = next_step_position % L\n",
    "        final_matrix_pos =  np.concatenate((final_matrix_pos, next_step_position), axis=1, out=None)\n",
    "        final_matrix_vel =  np.concatenate((final_matrix_vel, next_step_velocity), axis=1, out=None)\n",
    "        final_vector_kin = np.concatenate((final_vector_kin, np.array([kin_en(next_step_velocity)])), axis = 0, out = None)\n",
    "        final_vector_pot = np.concatenate((final_vector_pot, np.array([pot_en(final_matrix_pos)])), axis=0, out=None)\n",
    "        final_vector_energy = np.concatenate((final_vector_energy, np.array([kin_en(next_step_velocity) + pot_en(final_matrix_pos)])), axis=0, out=None)\n",
    "        final_rel_dist = np.concatenate((final_rel_dist, atomic_distances(next_step_position, 0)), axis = 1, out = None)\n",
    "        \n",
    "        \n",
    "        if i%100 == 0 and abs(final_vector_energy[-1] - np.sum(final_vector_energy, initial=-10)/10) > 20:\n",
    "            j = j+1\n",
    "            l = np.sqrt((3*(n-1)*T)/(2*final_vector_kin[-1]*119.8))\n",
    "            final_matrix_vel = final_matrix_vel * l\n",
    "    print(j)\n",
    "\n",
    "    #print(\"Positions:\\n\" , final_matrix_pos)\n",
    "    #print(\"Velocities:\\n\" , init_vel)\n",
    "    #print(\"Energy:\\n\" , final_vector_pot)\n",
    "    #print(final_vector_energy)\n",
    "    #print(final_vector_pot)\n",
    "    #print(final_rel_dist)\n",
    "\n",
    "\n",
    "    print(\"\")\n",
    "    plt.plot(times, final_vector_energy, label = \"Total\")\n",
    "    plt.plot(times, final_vector_kin, label = \"Kinetic\")\n",
    "    plt.plot(times, final_vector_pot, label = \"Potential\")\n",
    "    plt.legend()\n",
    "    plt.title(\"Energy over time\")\n",
    "    plt.xlabel(\"$t/(m\\sigma^2/\\epsilon)^{1/2}$\")\n",
    "    plt.ylabel(\"$E/\\epsilon$\")\n",
    "    plt.show()\n",
    "    \n",
    "print(\"using Euler:\\n\")\n",
    "simulate(euler)\n",
    "print(\"using Verlet:\\n\")\n",
    "simulate(verlet)\n"
   ]
  },
  {
   "cell_type": "code",
   "execution_count": null,
   "id": "polished-discharge",
   "metadata": {},
   "outputs": [],
   "source": []
  }
 ],
 "metadata": {
  "kernelspec": {
   "display_name": "Python 3",
   "language": "python",
   "name": "python3"
  },
  "language_info": {
   "codemirror_mode": {
    "name": "ipython",
    "version": 3
   },
   "file_extension": ".py",
   "mimetype": "text/x-python",
   "name": "python",
   "nbconvert_exporter": "python",
   "pygments_lexer": "ipython3",
   "version": "3.8.6"
  }
 },
 "nbformat": 4,
 "nbformat_minor": 5
}
