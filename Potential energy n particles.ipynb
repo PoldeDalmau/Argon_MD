{
 "cells": [
  {
   "cell_type": "code",
   "execution_count": 1,
   "id": "undefined-optimization",
   "metadata": {},
   "outputs": [],
   "source": [
    "import numpy as np"
   ]
  },
  {
   "cell_type": "code",
   "execution_count": 2,
   "id": "acute-major",
   "metadata": {},
   "outputs": [],
   "source": [
    "W = 1   #Width \n",
    "K = 1   #Depth\n",
    "n = 5\n",
    "dimensions = 3\n",
    "def atomic_distances(pos, output, L=1, W=1): # output = 0 gives the relative distances, output = 1 gives the relative positions\n",
    "    rel_pos = pos[:, None, :] - pos[None, :, :]                 # returns one matrix for each particle. Relative distances within the box\n",
    "    rel_dist = np.zeros((n, n, 1))\n",
    "    for i in range(n):\n",
    "        for k in range(n):\n",
    "            for l in range(dimensions):\n",
    "                if l == 0: # x-values i.e. change by L\n",
    "                    rel_pos[i,k,l] = min(rel_pos[i,k,l], (rel_pos[i,k,l]+L)%L, (rel_pos[i,k,l]-L)%L, rel_pos[i,k,l]+L, rel_pos[i,k,l]-L, key=abs) # takes the smallest distance comparing all images\n",
    "                if l == 1:\n",
    "                    rel_pos[i,k,l] = min(rel_pos[i,k,l], (rel_pos[i,k,l]+W)%W, (rel_pos[i,k,l]-W)%W, rel_pos[i,k,l]+W, rel_pos[i,k,l]-W, key=abs)\n",
    "                if l == 2:\n",
    "                    rel_pos[i,k,l] = min(rel_pos[i,k,l], (rel_pos[i,k,l]+K)%K, (rel_pos[i,k,l]-K)%K, rel_pos[i,k,l]+K, rel_pos[i,k,l]-K, key=abs)\n",
    "    for i in range(n):    \n",
    "        for k in range(n):\n",
    "            rel_dist[i,k] = np.sqrt(np.dot(rel_pos[i,k,:],rel_pos[i,k,:]))\n",
    "    if output == 0:\n",
    "        return rel_dist\n",
    "    elif output == 1:\n",
    "        return rel_pos\n",
    "    else:\n",
    "        print(\"The second parameter in the lj_forces must be either 0(for distances) or 1(for positions)\")"
   ]
  },
  {
   "cell_type": "code",
   "execution_count": 3,
   "id": "straight-cisco",
   "metadata": {},
   "outputs": [],
   "source": [
    "#function to compute the potential energy\n",
    "def pot_en(position): #position is the matrix with all the positions stored in it\n",
    "    current_pos = np.copy(position[:,-3:]) #nx3 matrix with the positions at the last time step\n",
    "    rel_pos = atomic_distances(current_pos, 1) # with pos = np.array(n, 3)\n",
    "    r = np.sqrt(np.sum((rel_pos)**2, axis=2)) #n x n simmetric matrix, r[i,j] is the distance between the i-th and the j-th particles\n",
    "    i = np.where(r == 0) # indices where the r matrix is 0\n",
    "    ones = np.zeros((n,n)) # nxn matrix\n",
    "    ones[i] = 1 # matrix with ones where r has zeros\n",
    "    R = r + ones  # same matrix as r, but with ones where r has zeros. we do this to avoid dividing by zero\n",
    "    u = 4*(1/R**12 - 1/R**6)\n",
    "    U = np.sum(u)\n",
    "    return U"
   ]
  },
  {
   "cell_type": "code",
   "execution_count": 4,
   "id": "apart-section",
   "metadata": {},
   "outputs": [
    {
     "data": {
      "text/plain": [
       "6732359651.986205"
      ]
     },
     "execution_count": 4,
     "metadata": {},
     "output_type": "execute_result"
    }
   ],
   "source": [
    "A = np.array([[0.26,0.37,0.81],[0.45,0.62,0.94],[0.75,0.53,0.38],[0.54,0.38,0.82],[0.13,0.26,0.87]])\n",
    "pot_en(A)"
   ]
  },
  {
   "cell_type": "code",
   "execution_count": null,
   "id": "rolled-washington",
   "metadata": {},
   "outputs": [],
   "source": []
  }
 ],
 "metadata": {
  "kernelspec": {
   "display_name": "Python 3",
   "language": "python",
   "name": "python3"
  },
  "language_info": {
   "codemirror_mode": {
    "name": "ipython",
    "version": 3
   },
   "file_extension": ".py",
   "mimetype": "text/x-python",
   "name": "python",
   "nbconvert_exporter": "python",
   "pygments_lexer": "ipython3",
   "version": "3.8.6"
  }
 },
 "nbformat": 4,
 "nbformat_minor": 5
}
