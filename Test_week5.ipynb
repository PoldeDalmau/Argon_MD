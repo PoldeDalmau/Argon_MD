{
 "cells": [
  {
   "cell_type": "code",
   "execution_count": 1,
   "id": "greater-parts",
   "metadata": {},
   "outputs": [],
   "source": [
    "import numpy as np\n",
    "import matplotlib.pyplot as plt\n",
    "from time import time\n",
    "import pandas as pd"
   ]
  },
  {
   "cell_type": "code",
   "execution_count": 2,
   "id": "backed-uzbekistan",
   "metadata": {},
   "outputs": [
    {
     "data": {
      "text/plain": [
       "5.883269840828314"
      ]
     },
     "execution_count": 2,
     "metadata": {},
     "output_type": "execute_result"
    }
   ],
   "source": [
    "n = 108\n",
    "T = 10 # the systhem is initialized at this temperature\n",
    "time_step = float(1e-3)\n",
    "lattice_const = 1.3867\n",
    "a = lattice_const*np.sqrt(2)\n",
    "L = 3*a   #System is of size LxLxL with the origin at the center. The units of L are of 1/s\n",
    "\n",
    "number_of_steps = int(10000)      \n",
    "dr = L/100\n",
    "#kin_en(init_vel)\n",
    "L"
   ]
  },
  {
   "cell_type": "code",
   "execution_count": 3,
   "id": "express-washington",
   "metadata": {},
   "outputs": [],
   "source": [
    "run -i skeleton_test.py"
   ]
  },
  {
   "cell_type": "code",
   "execution_count": 4,
   "id": "every-papua",
   "metadata": {},
   "outputs": [
    {
     "data": {
      "text/plain": [
       "-374.6200196922224"
      ]
     },
     "execution_count": 4,
     "metadata": {},
     "output_type": "execute_result"
    }
   ],
   "source": [
    "init_pos = fcc_lattice(a)\n",
    "#print(kin_en(init_vel))\n",
    "pot_en(atomic_distances(init_pos, 0))"
   ]
  },
  {
   "cell_type": "code",
   "execution_count": null,
   "id": "parliamentary-cricket",
   "metadata": {},
   "outputs": [
    {
     "name": "stdout",
     "output_type": "stream",
     "text": [
      "l = 0.26016708455292\n",
      "T =  10\n",
      "l = 0.8458668873998942\n",
      "T =  10\n",
      "l = 0.647736582428842\n",
      "T =  10\n",
      "l = 0.5490994252394434\n",
      "T =  10\n",
      "l = 0.5219540035762396\n",
      "T =  10\n",
      "l = 0.5143803078211282\n",
      "T =  10\n",
      "l = 0.5222399785515836\n",
      "T =  10\n",
      "l = 0.5774225408602867\n",
      "T =  10\n",
      "l = 0.604903050388412\n",
      "T =  10\n",
      "l = 0.5807099711240075\n",
      "T =  10\n",
      "l = 0.6342768020413666\n",
      "T =  10\n",
      "l = 0.6345005199619581\n",
      "T =  10\n",
      "l = 0.6266824575463924\n",
      "T =  10\n",
      "l = 0.6160456953826511\n",
      "T =  10\n",
      "l = 0.6756946402325263\n",
      "T =  10\n"
     ]
    }
   ],
   "source": [
    "tic = time()\n",
    "final_vector_energy, final_vector_kin, final_vector_pot, final_matrix_vel, final_vector_corr, final_matrix_pos = simulate(verlet, T, rescaling_bool=True , pressure_bool=False, error_bool=False, pair_correlation_bool = True)\n",
    "#, final_vector_press, final_vector_corr, Pressure, Sigma_A\n",
    "toc = time()\n",
    "print(\"Simulation time in seconds\", toc-tic)"
   ]
  },
  {
   "cell_type": "code",
   "execution_count": null,
   "id": "political-injection",
   "metadata": {},
   "outputs": [],
   "source": [
    "plot_pair_correlation(final_vector_corr)\n",
    "plot_energy(final_vector_energy, final_vector_kin, final_vector_pot)"
   ]
  },
  {
   "cell_type": "code",
   "execution_count": null,
   "id": "julian-township",
   "metadata": {},
   "outputs": [],
   "source": [
    "#new_latest_pos = latest_pos + time_step * latest_vel + (1/2) * time_step**2  * lj_force(rel_pos, rel_dist)\n",
    "#new_latest_vel = latest_vel + (time_step/2) * (lj_force(rel_pos, rel_dist) + lj_force(atomic_distances(new_latest_pos, 1), atomic_distances(new_latest_pos, 0)))"
   ]
  }
 ],
 "metadata": {
  "kernelspec": {
   "display_name": "Python 3",
   "language": "python",
   "name": "python3"
  },
  "language_info": {
   "codemirror_mode": {
    "name": "ipython",
    "version": 3
   },
   "file_extension": ".py",
   "mimetype": "text/x-python",
   "name": "python",
   "nbconvert_exporter": "python",
   "pygments_lexer": "ipython3",
   "version": "3.8.6"
  }
 },
 "nbformat": 4,
 "nbformat_minor": 5
}
