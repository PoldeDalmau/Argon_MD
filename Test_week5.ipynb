{
 "cells": [
  {
   "cell_type": "code",
   "execution_count": 1,
   "id": "pleased-invasion",
   "metadata": {},
   "outputs": [],
   "source": [
    "import numpy as np\n",
    "import matplotlib.pyplot as plt\n",
    "from time import time"
   ]
  },
  {
   "cell_type": "code",
   "execution_count": 2,
   "id": "major-sleep",
   "metadata": {},
   "outputs": [],
   "source": [
    "n = 32\n",
    "L = 7   #System is of size LxLxL with the origin at the center. The units of L are of 1/s\n",
    "T = 300 # the systhem is initialized at this temperature\n",
    "init_vel = np.random.normal(np.sqrt(T/119.8), size = (n, 3))\n",
    "init_vel = init_vel - np.mean(init_vel, axis=0)\n",
    "#init_vel = np.zeros((n,3))\n",
    "time_step = float(1e-4)\n",
    "a = L/2\n",
    "\n",
    "#number_of_steps = 2000         \n",
    "number_of_steps = int(15000)      \n"
   ]
  },
  {
   "cell_type": "code",
   "execution_count": 3,
   "id": "promising-sport",
   "metadata": {},
   "outputs": [],
   "source": [
    "run -i skeleton.py"
   ]
  },
  {
   "cell_type": "code",
   "execution_count": 4,
   "id": "silver-resolution",
   "metadata": {},
   "outputs": [
    {
     "data": {
      "text/plain": [
       "32"
      ]
     },
     "execution_count": 4,
     "metadata": {},
     "output_type": "execute_result"
    }
   ],
   "source": [
    "init_pos = fcc_lattice(a)\n",
    "len(init_pos)"
   ]
  },
  {
   "cell_type": "code",
   "execution_count": 5,
   "id": "confirmed-shoulder",
   "metadata": {},
   "outputs": [
    {
     "data": {
      "text/plain": [
       "47.395556644408046"
      ]
     },
     "execution_count": 5,
     "metadata": {},
     "output_type": "execute_result"
    }
   ],
   "source": [
    "kin_en(init_vel)"
   ]
  },
  {
   "cell_type": "code",
   "execution_count": null,
   "id": "destroyed-silicon",
   "metadata": {},
   "outputs": [],
   "source": [
    "tic = time()\n",
    "simulate(verlet, True, True, True)\n",
    "toc = time()\n",
    "print(\"time in seconds\", toc-tic)"
   ]
  },
  {
   "cell_type": "code",
   "execution_count": null,
   "id": "stylish-radar",
   "metadata": {},
   "outputs": [],
   "source": []
  }
 ],
 "metadata": {
  "kernelspec": {
   "display_name": "Python 3",
   "language": "python",
   "name": "python3"
  },
  "language_info": {
   "codemirror_mode": {
    "name": "ipython",
    "version": 3
   },
   "file_extension": ".py",
   "mimetype": "text/x-python",
   "name": "python",
   "nbconvert_exporter": "python",
   "pygments_lexer": "ipython3",
   "version": "3.8.6"
  }
 },
 "nbformat": 4,
 "nbformat_minor": 5
}
