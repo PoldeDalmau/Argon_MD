{
 "cells": [
  {
   "cell_type": "code",
   "execution_count": 1,
   "id": "solar-magic",
   "metadata": {},
   "outputs": [],
   "source": [
    "import numpy as np\n",
    "import matplotlib.pyplot as plt\n",
    "from time import time\n",
    "import pandas as pd"
   ]
  },
  {
   "cell_type": "code",
   "execution_count": 2,
   "id": "hawaiian-airplane",
   "metadata": {},
   "outputs": [],
   "source": [
    "n = 16\n",
    "T = 10 # the systhem is initialized at this temperature\n",
    "time_step = float(1e-3)\n",
    "lattice_const = 1.3867\n",
    "a = lattice_const*np.sqrt(2)\n",
    "L = 2*a   #System is of size LxLxL with the origin at the center. The units of L are of 1/s\n",
    "\n",
    "number_of_steps = int(10000)      \n",
    "dr = L/100\n",
    "#kin_en(init_vel)"
   ]
  },
  {
   "cell_type": "code",
   "execution_count": 3,
   "id": "handed-wedding",
   "metadata": {},
   "outputs": [],
   "source": [
    "run -i skeleton_test.py"
   ]
  },
  {
   "cell_type": "code",
   "execution_count": 4,
   "id": "rental-boring",
   "metadata": {},
   "outputs": [
    {
     "name": "stdout",
     "output_type": "stream",
     "text": [
      "[[0.         0.         0.        ]\n",
      " [1.96108995 0.         0.        ]\n",
      " [1.96108995 1.96108995 0.        ]\n",
      " [0.         1.96108995 0.        ]\n",
      " [0.         0.         1.96108995]\n",
      " [1.96108995 0.         1.96108995]\n",
      " [1.96108995 1.96108995 1.96108995]\n",
      " [0.         1.96108995 1.96108995]\n",
      " [0.98054497 0.98054497 0.        ]\n",
      " [2.94163492 0.98054497 0.        ]\n",
      " [2.94163492 2.94163492 0.        ]\n",
      " [0.98054497 2.94163492 0.        ]\n",
      " [0.98054497 0.98054497 1.96108995]\n",
      " [2.94163492 0.98054497 1.96108995]\n",
      " [2.94163492 2.94163492 1.96108995]\n",
      " [0.98054497 2.94163492 1.96108995]]\n"
     ]
    },
    {
     "data": {
      "text/plain": [
       "-18.022583151912823"
      ]
     },
     "execution_count": 4,
     "metadata": {},
     "output_type": "execute_result"
    }
   ],
   "source": [
    "init_pos = fcc_lattice(a)\n",
    "print(init_pos)\n",
    "#print(kin_en(init_vel))\n",
    "pot_en(atomic_distances(init_pos, 0))"
   ]
  },
  {
   "cell_type": "code",
   "execution_count": 5,
   "id": "dependent-formation",
   "metadata": {},
   "outputs": [
    {
     "name": "stdout",
     "output_type": "stream",
     "text": [
      "l = 0.27253905514117027\n",
      "T =  10\n",
      "l = 0.7311921088334982\n",
      "T =  10\n",
      "l = 0.5665592558538934\n",
      "T =  10\n",
      "l = 0.5294134453172721\n",
      "T =  10\n",
      "l = 0.5172533253632893\n",
      "T =  10\n",
      "l = 0.4947937590111807\n",
      "T =  10\n",
      "l = 0.48732952315094097\n",
      "T =  10\n",
      "l = 0.4610218637997433\n",
      "T =  10\n",
      "l = 0.5668217239063301\n",
      "T =  10\n",
      "l = 0.5644160701251593\n",
      "T =  10\n",
      "l = 0.6166324893228166\n",
      "T =  10\n",
      "l = 0.7313324500968915\n",
      "T =  10\n",
      "l = 0.7013340391904417\n",
      "T =  10\n",
      "l = 0.7323267427725639\n",
      "T =  10\n",
      "l = 0.8121695492037091\n",
      "T =  10\n",
      "l = 0.7935615682492465\n",
      "T =  10\n",
      "l = 0.8858355728346963\n",
      "T =  10\n",
      "l = 0.8239415019215199\n",
      "T =  10\n",
      "l = 0.8273779937233068\n",
      "T =  10\n",
      "l = 0.8019368330057162\n",
      "T =  10\n",
      "l = 0.8281283225158599\n",
      "T =  10\n",
      "l = 0.8356862916925123\n",
      "T =  10\n",
      "l = 0.8642604009652459\n",
      "T =  10\n",
      "l = 0.9997259682163694\n",
      "T =  10\n",
      "\n",
      "Equilibrium reached!!\n",
      "Number of rescalings:  24\n",
      "System did not reach equilibrium!!\n",
      "Simulation time in seconds 50.21703743934631\n"
     ]
    }
   ],
   "source": [
    "tic = time()\n",
    "final_vector_energy, final_vector_kin, final_vector_pot, final_matrix_vel = simulate(verlet, T, rescaling_bool=True , pressure_bool=False, error_bool=False, pair_correlation_bool = False)\n",
    "#, final_vector_press, final_vector_corr, Pressure, Sigma_A\n",
    "toc = time()\n",
    "print(\"Simulation time in seconds\", toc-tic)"
   ]
  },
  {
   "cell_type": "code",
   "execution_count": 6,
   "id": "committed-prize",
   "metadata": {},
   "outputs": [
    {
     "data": {
      "image/png": "[encoded data removed]",
      "text/plain": [
       "<Figure size 432x288 with 1 Axes>"
      ]
     },
     "metadata": {
      "needs_background": "light"
     },
     "output_type": "display_data"
    }
   ],
   "source": [
    "#plot_pair_correlation(final_vector_corr)\n",
    "plot_energy(final_vector_energy, final_vector_kin, final_vector_pot)"
   ]
  },
  {
   "cell_type": "code",
   "execution_count": 7,
   "id": "split-antibody",
   "metadata": {},
   "outputs": [],
   "source": [
    "#new_latest_pos = latest_pos + time_step * latest_vel + (1/2) * time_step**2  * lj_force(rel_pos, rel_dist)\n",
    "#new_latest_vel = latest_vel + (time_step/2) * (lj_force(rel_pos, rel_dist) + lj_force(atomic_distances(new_latest_pos, 1), atomic_distances(new_latest_pos, 0)))"
   ]
  }
 ],
 "metadata": {
  "kernelspec": {
   "display_name": "Python 3",
   "language": "python",
   "name": "python3"
  },
  "language_info": {
   "codemirror_mode": {
    "name": "ipython",
    "version": 3
   },
   "file_extension": ".py",
   "mimetype": "text/x-python",
   "name": "python",
   "nbconvert_exporter": "python",
   "pygments_lexer": "ipython3",
   "version": "3.8.6"
  }
 },
 "nbformat": 4,
 "nbformat_minor": 5
}
