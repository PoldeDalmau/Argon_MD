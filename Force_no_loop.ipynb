{
 "cells": [
  {
   "cell_type": "code",
   "execution_count": 2,
   "id": "arranged-rebound",
   "metadata": {},
   "outputs": [],
   "source": [
    "import numpy as np"
   ]
  },
  {
   "cell_type": "code",
   "execution_count": 194,
   "id": "derived-commonwealth",
   "metadata": {},
   "outputs": [],
   "source": [
    "#compute the forces on the particles at each timestep, pos = [m]/[s] = \n",
    "def lj_force(position, n):\n",
    "    F = 0\n",
    "    pos = position[:,-3:] # pos is in the form (n,3)\n",
    "    \n",
    "    rel_pos = pos[:, None, :] - pos[None, :, :] # with P = np.array(N_particels, 3)\n",
    "    r = np.sqrt(np.sum(np.power(rel_pos, 2), axis=2)) #n x n simmetric matrix, r[i,j] is the distance between the i-th and the j-th particles\n",
    "    \n",
    "    \n",
    "    \n",
    "    # Until this point:\n",
    "        # this function is 3D ready\n",
    "        # in order to use the int in the e-mail I switched from the form (3,n) which we use in the code to the form (n,3),\n",
    "        # so this force will probably return a n x 3 matrix, but it only takes one loop to change its shape\n",
    "        #\n",
    "        # rel_pos are n matrices in the form x1, y1, z1\n",
    "        #                                    x2, y2, z2\n",
    "        #                                    ..........\n",
    "        #                                    xn, yn, zn\n",
    "        #\n",
    "        # where the i-th line of the first matrix gives the distance of the i-th particle from the first particle,\n",
    "        # the i-th line of the second matrix gives the distance of the i-th particle from the second particle and so on\n",
    "        #\n",
    "        # r is a n x n simmetric matrix, where the element r[i,j] is the distance between the i-th and the j-th particle\n",
    "        #\n",
    "        # the thing to do from here is to write the force, possibly without using loops\n",
    "        \n",
    "    print('rel_pos=', rel_pos, '\\n')\n",
    "    print('r=',r)\n",
    "    return F\n"
   ]
  },
  {
   "cell_type": "code",
   "execution_count": 195,
   "id": "motivated-equivalent",
   "metadata": {},
   "outputs": [
    {
     "data": {
      "text/plain": [
       "array([[0.1 , 0.8 , 0.3 ],\n",
       "       [0.6 , 0.5 , 0.13]])"
      ]
     },
     "execution_count": 195,
     "metadata": {},
     "output_type": "execute_result"
    }
   ],
   "source": [
    "our = np.array([[0.1, 0.8, 0.3], [0.6, 0.5, 0.13]]) # n x 3 matrix with n = 2\n",
    "our"
   ]
  },
  {
   "cell_type": "code",
   "execution_count": 196,
   "id": "another-message",
   "metadata": {},
   "outputs": [
    {
     "name": "stdout",
     "output_type": "stream",
     "text": [
      "rel_pos= [[[ 0.    0.    0.  ]\n",
      "  [-0.5   0.3   0.17]]\n",
      "\n",
      " [[ 0.5  -0.3  -0.17]\n",
      "  [ 0.    0.    0.  ]]] \n",
      "\n",
      "r= [[0.         0.60737139]\n",
      " [0.60737139 0.        ]]\n"
     ]
    },
    {
     "data": {
      "text/plain": [
       "0"
      ]
     },
     "execution_count": 196,
     "metadata": {},
     "output_type": "execute_result"
    }
   ],
   "source": [
    "lj_force(our,-2)"
   ]
  },
  {
   "cell_type": "code",
   "execution_count": null,
   "id": "dietary-european",
   "metadata": {},
   "outputs": [],
   "source": []
  }
 ],
 "metadata": {
  "kernelspec": {
   "display_name": "Python 3",
   "language": "python",
   "name": "python3"
  },
  "language_info": {
   "codemirror_mode": {
    "name": "ipython",
    "version": 3
   },
   "file_extension": ".py",
   "mimetype": "text/x-python",
   "name": "python",
   "nbconvert_exporter": "python",
   "pygments_lexer": "ipython3",
   "version": "3.8.6"
  }
 },
 "nbformat": 4,
 "nbformat_minor": 5
}
