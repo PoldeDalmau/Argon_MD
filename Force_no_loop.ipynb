{
 "cells": [
  {
   "cell_type": "code",
   "execution_count": 2,
   "id": "dependent-grain",
   "metadata": {},
   "outputs": [],
   "source": [
    "import numpy as np"
   ]
  },
  {
   "cell_type": "code",
   "execution_count": 185,
   "id": "parliamentary-christopher",
   "metadata": {},
   "outputs": [],
   "source": [
    "#compute the forces on the particles at each timestep, pos = [m]/[s] = \n",
    "def lj_force(position, n):\n",
    "    F = 0\n",
    "    pos = position[:,-n:] # pos is in the form (3,n)\n",
    "    P = np.zeros((n,3)) # P is in the form (n,3) w/ n number of particles and 3 number of dimensions \n",
    "    for i in range(n):\n",
    "        P[i,:] = pos[:,i] # P is in the form (n,3)\n",
    "\n",
    "    rel_pos = P[:, None, :] - P[None, :, :] # with P = np.array(N_particels, 3)\n",
    "    r = np.sqrt(np.sum(np.power(rel_pos, 2), axis=2)) #n x n simmetric matrix, r[i,j] is the distance between the i-th and the j-th particles\n",
    "    \n",
    "    # Until this point:\n",
    "        # this function is 3D ready\n",
    "        # in order to use the int in the e-mail I switched from the form (3,n) which we use in the code to the form (n,3),\n",
    "        # so this force will probably return a n x 3 matrix, but it only takes one loop to change its shape\n",
    "        #\n",
    "        # rel_pos are n matrices in the form x1, y1, z1\n",
    "        #                                    x2, y2, z2\n",
    "        #                                    ..........\n",
    "        #                                    xn, yn, zn\n",
    "        #\n",
    "        # where the i-th line of the first matrix gives the distance of the i-th particle from the first particle,\n",
    "        # the i-th line of the second matrix gives the distance of the i-th particle from the second particle and so on\n",
    "        #\n",
    "        # r is a n x n simmetric matrix, where the element r[i,j] is the distance between the i-th and the j-th particle\n",
    "        #\n",
    "        # the thing to do from here is to write the force, possibly without using loops\n",
    "        \n",
    "    print('P=', P, '\\n')\n",
    "    print('rel_pos=', rel_pos, '\\n')\n",
    "    print('r=',r)\n",
    "    return F\n"
   ]
  },
  {
   "cell_type": "code",
   "execution_count": 88,
   "id": "timely-ridge",
   "metadata": {},
   "outputs": [
    {
     "data": {
      "text/plain": [
       "array([[10,  5,  3, 14],\n",
       "       [ 6,  5, 13,  1],\n",
       "       [ 5,  8,  6,  7]])"
      ]
     },
     "execution_count": 88,
     "metadata": {},
     "output_type": "execute_result"
    }
   ],
   "source": [
    "our = np.array([[10, 5, 3, 14], [6, 5, 13, 1], [5, 8, 6, 7]]) #array in the shape we are using\n",
    "our"
   ]
  },
  {
   "cell_type": "code",
   "execution_count": 89,
   "id": "roman-midwest",
   "metadata": {},
   "outputs": [
    {
     "data": {
      "text/plain": [
       "array([[10.,  6.,  5.],\n",
       "       [ 5.,  5.,  8.],\n",
       "       [ 3., 13.,  6.],\n",
       "       [14.,  1.,  7.]])"
      ]
     },
     "execution_count": 89,
     "metadata": {},
     "output_type": "execute_result"
    }
   ],
   "source": [
    "h = np.zeros((4,3)) # array in the shapa that is usable in the force function\n",
    "\n",
    "for i in range(4):\n",
    "    h[i,:] = our[:,i]\n",
    "h"
   ]
  },
  {
   "cell_type": "code",
   "execution_count": 186,
   "id": "thrown-nicholas",
   "metadata": {},
   "outputs": [
    {
     "name": "stdout",
     "output_type": "stream",
     "text": [
      "P= [[10.  6.  5.]\n",
      " [ 5.  5.  8.]\n",
      " [ 3. 13.  6.]\n",
      " [14.  1.  7.]] \n",
      "\n",
      "rel_pos= [[[  0.   0.   0.]\n",
      "  [  5.   1.  -3.]\n",
      "  [  7.  -7.  -1.]\n",
      "  [ -4.   5.  -2.]]\n",
      "\n",
      " [[ -5.  -1.   3.]\n",
      "  [  0.   0.   0.]\n",
      "  [  2.  -8.   2.]\n",
      "  [ -9.   4.   1.]]\n",
      "\n",
      " [[ -7.   7.   1.]\n",
      "  [ -2.   8.  -2.]\n",
      "  [  0.   0.   0.]\n",
      "  [-11.  12.  -1.]]\n",
      "\n",
      " [[  4.  -5.   2.]\n",
      "  [  9.  -4.  -1.]\n",
      "  [ 11. -12.   1.]\n",
      "  [  0.   0.   0.]]] \n",
      "\n",
      "r= [[ 0.          5.91607978  9.94987437  6.70820393]\n",
      " [ 5.91607978  0.          8.48528137  9.89949494]\n",
      " [ 9.94987437  8.48528137  0.         16.30950643]\n",
      " [ 6.70820393  9.89949494 16.30950643  0.        ]]\n"
     ]
    },
    {
     "data": {
      "text/plain": [
       "0"
      ]
     },
     "execution_count": 186,
     "metadata": {},
     "output_type": "execute_result"
    }
   ],
   "source": [
    "lj_force(our,4)"
   ]
  },
  {
   "cell_type": "code",
   "execution_count": null,
   "id": "stainless-confirmation",
   "metadata": {},
   "outputs": [],
   "source": []
  }
 ],
 "metadata": {
  "kernelspec": {
   "display_name": "Python 3",
   "language": "python",
   "name": "python3"
  },
  "language_info": {
   "codemirror_mode": {
    "name": "ipython",
    "version": 3
   },
   "file_extension": ".py",
   "mimetype": "text/x-python",
   "name": "python",
   "nbconvert_exporter": "python",
   "pygments_lexer": "ipython3",
   "version": "3.8.6"
  }
 },
 "nbformat": 4,
 "nbformat_minor": 5
}
