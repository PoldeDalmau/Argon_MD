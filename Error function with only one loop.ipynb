{
 "cells": [
  {
   "cell_type": "code",
   "execution_count": null,
   "id": "close-characterization",
   "metadata": {},
   "outputs": [],
   "source": [
    "def plot_pressure_and_error(vector_press):\n",
    "    b = 1\n",
    "    N = int(0.3*number_of_steps)\n",
    "    P = np.copy((vector_press[-N:]))\n",
    "    S_a = np.zeros((int(N/6), 1))\n",
    "    for b in range(1, int(N/6)):\n",
    "        Nb = int(N/b)\n",
    "        p=np.zeros(Nb)\n",
    "        P=P[:Nb*b]\n",
    "        P_shape=np.reshape(P, (Nb,b))\n",
    "        p = np.sum(P_shape, axis = 1)/b\n",
    "        S_a[b]=np.sqrt((1/(Nb-1))*(((1/Nb)*np.sum(np.square(p)))-np.square((1/Nb)*np.sum(p))))\n",
    "\n",
    "        x = np.arange(0, len(S_a))\n",
    "        plt.plot(x, S_a)\n",
    "        plt.title(\"Error with data blocking\")\n",
    "        plt.xlabel(\"b\")\n",
    "        plt.ylabel(\"$\\sigma_A$\")"
   ]
  }
 ],
 "metadata": {
  "kernelspec": {
   "display_name": "Python 3",
   "language": "python",
   "name": "python3"
  },
  "language_info": {
   "codemirror_mode": {
    "name": "ipython",
    "version": 3
   },
   "file_extension": ".py",
   "mimetype": "text/x-python",
   "name": "python",
   "nbconvert_exporter": "python",
   "pygments_lexer": "ipython3",
   "version": "3.8.6"
  }
 },
 "nbformat": 4,
 "nbformat_minor": 5
}
