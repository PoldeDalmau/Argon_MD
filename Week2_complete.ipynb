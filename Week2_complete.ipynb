{
 "cells": [
  {
   "cell_type": "code",
   "execution_count": 1,
   "id": "remarkable-keeping",
   "metadata": {},
   "outputs": [],
   "source": [
    "import skeleton as s\n",
    "import numpy as np\n",
    "import matplotlib.pyplot as plt"
   ]
  },
  {
   "cell_type": "raw",
   "id": "falling-watts",
   "metadata": {},
   "source": [
    "Normalize units:\n",
    "In the code we can't write the \"~\" but the units are normalized.\n",
    "Below are the variables we shall use in normalized units:"
   ]
  },
  {
   "cell_type": "markdown",
   "id": "diverse-sense",
   "metadata": {},
   "source": [
    "$\\tilde t = \\frac{t}{\\left(\\frac{m\\sigma^2}{\\epsilon}\\right)^{1/2}}$"
   ]
  },
  {
   "cell_type": "markdown",
   "id": "romantic-activation",
   "metadata": {},
   "source": [
    "$\\tilde x = x/ \\sigma$"
   ]
  },
  {
   "cell_type": "markdown",
   "id": "collaborative-austin",
   "metadata": {},
   "source": [
    "$\\tilde v = \\sqrt{\\epsilon/m}$"
   ]
  },
  {
   "cell_type": "markdown",
   "id": "minus-sampling",
   "metadata": {},
   "source": [
    "$\\tilde U(\\tilde r) = U(r)/\\epsilon$"
   ]
  },
  {
   "cell_type": "markdown",
   "id": "recognized-partnership",
   "metadata": {},
   "source": [
    "$\\nabla = \\frac{1}{\\sigma} \\tilde\\nabla$"
   ]
  },
  {
   "cell_type": "markdown",
   "id": "handed-arbitration",
   "metadata": {},
   "source": [
    "The kinetic energy in natural units is given as:\n",
    "$\\tilde K = K(v)/\\epsilon = \\frac{1}{2}  \\sqrt{\\epsilon/m}^2m \\tilde v^2 = \\frac{1}{2}\\tilde v^2$"
   ]
  },
  {
   "cell_type": "code",
   "execution_count": 2,
   "id": "alone-identification",
   "metadata": {},
   "outputs": [],
   "source": [
    "n = 2   #number of particles\n",
    "L = 1   #System is of size LxL with the origin at the center. The units of L are of 1/s\n",
    "init_pos = np.array([[0.1, 0.8, 0.8],[0.7, 0.9, 0.9]])\n",
    "init_vel = np.random.uniform(low=-1, high=1, size=(n, 3))\n",
    "e =  1.65 * pow(10,-21)\n",
    "s =  3.405 * pow(10,-10)\n",
    "time_step = 1e-3\n",
    "m =  6.6335 * pow(10, -26) #mass of argon atom in kg\n",
    "\n",
    "number_of_steps = 10\n",
    "dimensions = 3"
   ]
  },
  {
   "cell_type": "code",
   "execution_count": 3,
   "id": "unauthorized-egyptian",
   "metadata": {},
   "outputs": [
    {
     "data": {
      "text/plain": [
       "array([0.   , 0.001, 0.002, 0.003, 0.004, 0.005, 0.006, 0.007, 0.008,\n",
       "       0.009, 0.01 ])"
      ]
     },
     "execution_count": 3,
     "metadata": {},
     "output_type": "execute_result"
    }
   ],
   "source": [
    "#print(\"initial pos\\n\", init_pos,\"\\n initial vel\\n\" ,init_vel)\n",
    "times = np.arange(0,(number_of_steps + 1) * time_step, time_step)\n",
    "times"
   ]
  },
  {
   "cell_type": "code",
   "execution_count": 4,
   "id": "instrumental-beatles",
   "metadata": {},
   "outputs": [],
   "source": [
    "W = 1   #Width \n",
    "K = 1   #Depth\n",
    "def atomic_distances(pos, output, L=1, W=1): # output = 0 gives the relative distances, output = 1 gives the relative positions\n",
    "    rel_pos = pos[:, None, :] - pos[None, :, :]                 # returns one matrix for each particle. Relative distances within the box\n",
    "    rel_dist = np.zeros((n, n, 1))\n",
    "    for i in range(n):\n",
    "        for k in range(n):\n",
    "            for l in range(dimensions):\n",
    "                if l == 0: # x-values i.e. change by L\n",
    "                    rel_pos[i,k,l] = min(rel_pos[i,k,l], (rel_pos[i,k,l]+L)%L, (rel_pos[i,k,l]-L)%L, rel_pos[i,k,l]+L, rel_pos[i,k,l]-L, key=abs) # takes the smallest distance comparing all images\n",
    "                if l == 1:\n",
    "                    rel_pos[i,k,l] = min(rel_pos[i,k,l], (rel_pos[i,k,l]+W)%W, (rel_pos[i,k,l]-W)%W, rel_pos[i,k,l]+W, rel_pos[i,k,l]-W, key=abs)\n",
    "                if l == 2:\n",
    "                    rel_pos[i,k,l] = min(rel_pos[i,k,l], (rel_pos[i,k,l]+K)%K, (rel_pos[i,k,l]-K)%K, rel_pos[i,k,l]+K, rel_pos[i,k,l]-K, key=abs)\n",
    "    for i in range(n):    \n",
    "        for k in range(n):\n",
    "            rel_dist[i,k] = np.sqrt(np.dot(rel_pos[i,k,:],rel_pos[i,k,:]))\n",
    "    \n",
    "    if output == 0:\n",
    "        return rel_dist\n",
    "    elif output == 1:\n",
    "        return rel_pos\n",
    "    else:\n",
    "        print(\"The second parameter in the lj_forces must be either 0(for distances) or 1(for positions)\")"
   ]
  },
  {
   "cell_type": "code",
   "execution_count": 5,
   "id": "patient-smart",
   "metadata": {},
   "outputs": [],
   "source": [
    "#compute the forces on the particles at each timestep, pos = [m]/[s] = \n",
    "def lj_force(position, n):\n",
    "    \n",
    "    rel_pos = atomic_distances(position[:,-3:], 1) # with pos = np.array(N_particels, 3)\n",
    "    r = np.sqrt(np.sum((rel_pos)**2, axis=2)) #n x n simmetric matrix, r[i,j] is the distance between the i-th and the j-th particles\n",
    "    r = r[0,1]\n",
    "    F = np.zeros((n,3))\n",
    "    F = 24*rel_pos*(((1/r)**12)-((1/r)**6))\n",
    "    F_matrix=np.sum(F,axis=0)    \n",
    "    \n",
    "    return F_matrix"
   ]
  },
  {
   "cell_type": "code",
   "execution_count": 6,
   "id": "accepting-bibliography",
   "metadata": {},
   "outputs": [],
   "source": [
    "final_matrix_pos = np.copy(init_pos)\n",
    "final_matrix_vel = np.copy(init_vel)\n",
    "\n",
    "def euler(final_matrix_pos, final_matrix_vel):\n",
    "    \n",
    "    latest_pos = np.copy(final_matrix_pos[:,-3:])         # -3 is for the dimensions\n",
    "    latest_vel = np.copy(final_matrix_vel[:,-3:])\n",
    "    \n",
    "    new_latest_pos = latest_pos + latest_vel * time_step\n",
    "    new_latest_vel = latest_vel + lj_force(latest_pos, n)\n",
    "    return new_latest_pos, new_latest_vel\n"
   ]
  },
  {
   "cell_type": "code",
   "execution_count": 7,
   "id": "featured-taste",
   "metadata": {},
   "outputs": [],
   "source": [
    "#function to compute the kinetic energy\n",
    "def kin_en(v): #v is the last step velocity\n",
    "    K = 0.5*np.sum(v**2)\n",
    "    return K"
   ]
  },
  {
   "cell_type": "code",
   "execution_count": 8,
   "id": "caroline-memorabilia",
   "metadata": {},
   "outputs": [],
   "source": [
    "#function to compute the potential energy\n",
    "def pot_en(position, n): #position is the matrix with all the positions stored in it, n is the number of particles\n",
    "    current_pos = np.copy(position[:,-3:])\n",
    "    rel_pos = atomic_distances(current_pos, 1) # with pos = np.array(N_particels, 3)\n",
    "    r = np.sqrt(np.sum((rel_pos)**2, axis=2)) #n x n simmetric matrix, r[i,j] is the distance between the i-th and the j-th particles\n",
    "    r = r[0,1]\n",
    "    U = 4*(1/r**12 - 1/r**6)\n",
    "    \n",
    "    return U"
   ]
  },
  {
   "cell_type": "code",
   "execution_count": 9,
   "id": "focused-brown",
   "metadata": {},
   "outputs": [
    {
     "data": {
      "image/png": "[encoded data removed]",
      "text/plain": [
       "<Figure size 432x288 with 1 Axes>"
      ]
     },
     "metadata": {
      "needs_background": "light"
     },
     "output_type": "display_data"
    },
    {
     "data": {
      "image/png": "[encoded data removed]",
      "text/plain": [
       "<Figure size 432x288 with 1 Axes>"
      ]
     },
     "metadata": {
      "needs_background": "light"
     },
     "output_type": "display_data"
    }
   ],
   "source": [
    "#Create a 2x8 matrix to store the velocity of each particle at each step in time.\n",
    "next_step_velocity = np.copy(init_vel)\n",
    "\n",
    "#Create a 2x8 matrix to store the position of each particle at each step in time.\n",
    "next_step_position = np.copy(init_pos)\n",
    "\n",
    "final_vector_kin = np.array([kin_en(init_vel)])\n",
    "final_vector_pot = np.array([pot_en(final_matrix_pos, n)])\n",
    "final_vector_energy = np.array([kin_en(init_vel) + pot_en(final_matrix_pos, n)])\n",
    "\n",
    "final_rel_dist = atomic_distances(init_pos, 0)\n",
    "\n",
    "for i in range(number_of_steps):\n",
    "    next_step_position, next_step_velocity = euler(final_matrix_pos, final_matrix_vel)\n",
    "    for k in range(n): #implement boundary conditions\n",
    "        for j in range(n):\n",
    "            next_step_position[k, j] = next_step_position[k, j]% L\n",
    "    final_matrix_pos =  np.concatenate((final_matrix_pos, next_step_position), axis=1, out=None)\n",
    "    final_matrix_vel =  np.concatenate((final_matrix_vel, next_step_velocity), axis=1, out=None)\n",
    "    final_vector_kin = np.concatenate((final_vector_kin, np.array([kin_en(next_step_velocity)])), axis = 0, out = None)\n",
    "    final_vector_pot = np.concatenate((final_vector_pot, np.array([pot_en(final_matrix_pos, n)])), axis=0, out=None)\n",
    "    final_vector_energy = np.concatenate((final_vector_energy, np.array([kin_en(next_step_velocity) + pot_en(final_matrix_pos, n)])), axis=0, out=None)\n",
    "    final_rel_dist = np.concatenate((final_rel_dist, atomic_distances(next_step_position, 0)), axis = 1, out = None)\n",
    "\n",
    "# print(\"Positions:\\n\" , final_matrix_pos)\n",
    "# print(\"Velocities:\\n\" , final_matrix_vel)\n",
    "# print(\"Energy:\\n\" , final_vector_energy)\n",
    "#print(final_vector_kin)\n",
    "#print(final_vector_pot)\n",
    "#print(final_rel_dist)\n",
    "\n",
    "\n",
    "plt.plot(times,final_rel_dist[0, 1::2, ])\n",
    "plt.title(\"Relative distances over time\")\n",
    "plt.xlabel(\"$t/(m\\sigma^2/\\epsilon)^{1/2}$\")\n",
    "plt.ylabel(\"$r/\\sigma$\")\n",
    "plt.show()\n",
    "\n",
    "plt.plot(times, final_vector_energy)\n",
    "plt.plot(times, final_vector_kin)\n",
    "plt.plot(times, final_vector_pot)\n",
    "plt.legend([\"Total Energy\", \"Kinetic Energy\", \"Potential Energy\"])\n",
    "plt.title(\"Energy over time\")\n",
    "plt.xlabel(\"$t/(m\\sigma^2/\\epsilon)^{1/2}$\")\n",
    "plt.ylabel(\"$E/\\epsilon$\")\n",
    "plt.show()"
   ]
  },
  {
   "cell_type": "code",
   "execution_count": null,
   "id": "technological-british",
   "metadata": {},
   "outputs": [],
   "source": []
  }
 ],
 "metadata": {
  "kernelspec": {
   "display_name": "Python 3",
   "language": "python",
   "name": "python3"
  },
  "language_info": {
   "codemirror_mode": {
    "name": "ipython",
    "version": 3
   },
   "file_extension": ".py",
   "mimetype": "text/x-python",
   "name": "python",
   "nbconvert_exporter": "python",
   "pygments_lexer": "ipython3",
   "version": "3.8.6"
  }
 },
 "nbformat": 4,
 "nbformat_minor": 5
}
