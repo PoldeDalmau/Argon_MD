{
 "cells": [
  {
   "cell_type": "code",
   "execution_count": 1,
   "id": "legal-automation",
   "metadata": {},
   "outputs": [],
   "source": [
    "import numpy as np"
   ]
  },
  {
   "cell_type": "code",
   "execution_count": 8,
   "id": "forty-bibliography",
   "metadata": {},
   "outputs": [],
   "source": [
    "def kin_en(v): #v is the last step velocity\n",
    "    K = 0.5*np.sum(np.power(v,2))\n",
    "    return K"
   ]
  },
  {
   "cell_type": "code",
   "execution_count": 3,
   "id": "infectious-pipeline",
   "metadata": {},
   "outputs": [
    {
     "data": {
      "text/plain": [
       "array([[0.1 , 0.8 , 0.3 ],\n",
       "       [0.6 , 0.5 , 0.13]])"
      ]
     },
     "execution_count": 3,
     "metadata": {},
     "output_type": "execute_result"
    }
   ],
   "source": [
    "v = np.array([[0.1, 0.8, 0.3], [0.6, 0.5, 0.13]])\n",
    "v"
   ]
  },
  {
   "cell_type": "code",
   "execution_count": 9,
   "id": "freelance-dover",
   "metadata": {},
   "outputs": [
    {
     "data": {
      "text/plain": [
       "0.68345"
      ]
     },
     "execution_count": 9,
     "metadata": {},
     "output_type": "execute_result"
    }
   ],
   "source": [
    "kin_en(v)"
   ]
  },
  {
   "cell_type": "code",
   "execution_count": null,
   "id": "rising-courage",
   "metadata": {},
   "outputs": [],
   "source": []
  }
 ],
 "metadata": {
  "kernelspec": {
   "display_name": "Python 3",
   "language": "python",
   "name": "python3"
  },
  "language_info": {
   "codemirror_mode": {
    "name": "ipython",
    "version": 3
   },
   "file_extension": ".py",
   "mimetype": "text/x-python",
   "name": "python",
   "nbconvert_exporter": "python",
   "pygments_lexer": "ipython3",
   "version": "3.8.6"
  }
 },
 "nbformat": 4,
 "nbformat_minor": 5
}
