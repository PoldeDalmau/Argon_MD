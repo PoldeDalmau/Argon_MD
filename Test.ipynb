{
 "cells": [
  {
   "cell_type": "code",
   "execution_count": null,
   "id": "alert-appointment",
   "metadata": {},
   "outputs": [],
   "source": [
    "import skeleton as s\n",
    "import numpy as np"
   ]
  },
  {
   "cell_type": "markdown",
   "id": "professional-netscape",
   "metadata": {},
   "source": [
    "1st column: x_coordinate, \n",
    "second column: y_coordinate;\n",
    "size(number of particles, number of dimensions)"
   ]
  },
  {
   "cell_type": "code",
   "execution_count": 47,
   "id": "negative-separation",
   "metadata": {},
   "outputs": [
    {
     "name": "stdout",
     "output_type": "stream",
     "text": [
      "pos\n",
      " [[0.33712212 0.25308681]\n",
      " [0.13747493 0.94744491]] \n",
      " vel\n",
      " [[-273.25571972  368.36829179]\n",
      " [ 299.65362447 -272.72019925]]\n",
      "y_values\n",
      " [0.25308681 0.94744491]\n"
     ]
    }
   ],
   "source": [
    "init_pos = np.random.uniform(low=0, high=1.0, size=(2, 2))\n",
    "init_vel = np.random.uniform(low=-430, high=430, size=(2, 2))\n",
    "\n",
    "print(\"pos\\n\", init_pos,\"\\n vel\\n\" ,init_vel)\n",
    "print(\"y_values\\n\", init_pos[:, 1])"
   ]
  },
  {
   "cell_type": "code",
   "execution_count": 62,
   "id": "ecological-field",
   "metadata": {},
   "outputs": [],
   "source": [
    "def function(init_pos, init_vel):\n",
    "    later_positions = np.random.uniform(low=0, high=1.0, size=(2, 2))\n",
    "    np.concatenate((init_pos, later_positions), axis=1, out=None)\n",
    "    \n",
    "function(init_pos, init_vel)"
   ]
  },
  {
   "cell_type": "code",
   "execution_count": 61,
   "id": "random-bryan",
   "metadata": {},
   "outputs": [
    {
     "name": "stdout",
     "output_type": "stream",
     "text": [
      "later positions\n",
      " [[0.49112217 0.86110722]\n",
      " [0.17178813 0.04853016]]\n"
     ]
    },
    {
     "data": {
      "text/plain": [
       "array([[0.33712212, 0.25308681, 0.49112217, 0.86110722],\n",
       "       [0.13747493, 0.94744491, 0.17178813, 0.04853016]])"
      ]
     },
     "execution_count": 61,
     "metadata": {},
     "output_type": "execute_result"
    }
   ],
   "source": [
    "later_positions = np.random.uniform(low=0, high=1.0, size=(2, 2))\n",
    "print(\"later positions\\n\" , later_positions)\n",
    "np.concatenate((init_pos, later_positions), axis=1, out=None)"
   ]
  },
  {
   "cell_type": "markdown",
   "id": "worth-crisis",
   "metadata": {},
   "source": [
    "No boundary condition yet"
   ]
  }
 ],
 "metadata": {
  "kernelspec": {
   "display_name": "Python 3",
   "language": "python",
   "name": "python3"
  },
  "language_info": {
   "codemirror_mode": {
    "name": "ipython",
    "version": 3
   },
   "file_extension": ".py",
   "mimetype": "text/x-python",
   "name": "python",
   "nbconvert_exporter": "python",
   "pygments_lexer": "ipython3",
   "version": "3.8.6"
  }
 },
 "nbformat": 4,
 "nbformat_minor": 5
}
