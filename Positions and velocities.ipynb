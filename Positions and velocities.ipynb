{
 "cells": [
  {
   "cell_type": "code",
   "execution_count": 2,
   "id": "comic-japan",
   "metadata": {},
   "outputs": [],
   "source": [
    "import skeleton as s\n",
    "import numpy as np"
   ]
  },
  {
   "cell_type": "code",
   "execution_count": 3,
   "id": "arabic-factory",
   "metadata": {},
   "outputs": [],
   "source": [
    "init_pos = np.random.uniform(low=0, high=1.0, size=(2, 2))\n",
    "init_vel = np.random.uniform(low=-430, high=430, size=(2, 2))"
   ]
  },
  {
   "cell_type": "code",
   "execution_count": 4,
   "id": "genuine-spanking",
   "metadata": {},
   "outputs": [
    {
     "name": "stdout",
     "output_type": "stream",
     "text": [
      "pos\n",
      " [[0.72004323 0.21592059]\n",
      " [0.22136561 0.40154733]] \n",
      " vel\n",
      " [[429.06913959 199.0120369 ]\n",
      " [109.20851122 207.42987252]]\n",
      "y_values\n",
      " [0.21592059 0.40154733]\n",
      "later positions\n",
      " [[1.6023643  0.66891085]\n",
      " [0.9780363  1.03414858]]\n"
     ]
    },
    {
     "data": {
      "text/plain": [
       "array([[0.72004323, 0.21592059, 1.6023643 , 0.66891085],\n",
       "       [0.22136561, 0.40154733, 0.9780363 , 1.03414858]])"
      ]
     },
     "execution_count": 4,
     "metadata": {},
     "output_type": "execute_result"
    }
   ],
   "source": [
    "print(\"pos\\n\", init_pos,\"\\n vel\\n\" ,init_vel)\n",
    "print(\"y_values\\n\", init_pos[:, 1])\n",
    "later_positions = init_pos + np.random.uniform(low=0, high=1.0, size=(2, 2))\n",
    "print(\"later positions\\n\" , later_positions)\n",
    "np.concatenate((init_pos, later_positions), axis=1, out=None)"
   ]
  },
  {
   "cell_type": "code",
   "execution_count": 6,
   "id": "informational-stream",
   "metadata": {},
   "outputs": [
    {
     "name": "stdout",
     "output_type": "stream",
     "text": [
      "[[0.72004323 0.21592059 0.03899029 0.03978598 0.15258655 0.06738025\n",
      "  0.14431238 0.08280284]\n",
      " [0.22136561 0.40154733 0.05940102 0.10183335 0.78537088 0.11542433\n",
      "  0.81793312 0.47422327]]\n"
     ]
    }
   ],
   "source": [
    "#Create a 2x8 matrix to store the position of each particle at each step in time.\n",
    "number_of_steps = 3\n",
    "pos_steps = np.copy(init_pos)\n",
    "next_step_position = np.copy(init_pos)\n",
    "\n",
    "for i in range(number_of_steps):\n",
    "    next_step_position += np.random.uniform(low=0, high=1.0, size=(2, 2))\n",
    "    for k in range(2): #implement boundary conditions\n",
    "        for j in range(2):\n",
    "            if next_step_position[k, j] > 1:\n",
    "                next_step_position[k, j] -= 1\n",
    "            elif next_step_position[k, j] < 0:\n",
    "                next_step_position[k, j] += 1\n",
    "    pos_steps =  np.concatenate((pos_steps, next_step_position), axis=1, out=None)\n",
    "\n",
    "print(pos_steps)"
   ]
  },
  {
   "cell_type": "code",
   "execution_count": 7,
   "id": "broadband-examination",
   "metadata": {},
   "outputs": [
    {
     "name": "stdout",
     "output_type": "stream",
     "text": [
      "[[429.06913959 199.0120369  355.28947365 146.44357877 311.26848442\n",
      "  141.06992864 280.44727685 113.9931523 ]\n",
      " [109.20851122 207.42987252  25.21536702 199.49522355 -26.22014595\n",
      "  287.43261335  21.25404562 252.05031906]]\n"
     ]
    }
   ],
   "source": [
    "#Create a 2x8 matrix to store the velocity of each particle at each step in time.\n",
    "vel_steps = np.copy(init_vel)\n",
    "next_step_velocity = np.copy(init_vel)\n",
    "\n",
    "for i in range(number_of_steps):\n",
    "    next_step_velocity += np.random.uniform(low=-100, high=100, size=(2, 2))\n",
    "    vel_steps =  np.concatenate((vel_steps, next_step_velocity), axis=1, out=None)\n",
    "\n",
    "print(vel_steps)"
   ]
  },
  {
   "cell_type": "code",
   "execution_count": null,
   "id": "temporal-northeast",
   "metadata": {},
   "outputs": [],
   "source": []
  }
 ],
 "metadata": {
  "kernelspec": {
   "display_name": "Python 3",
   "language": "python",
   "name": "python3"
  },
  "language_info": {
   "codemirror_mode": {
    "name": "ipython",
    "version": 3
   },
   "file_extension": ".py",
   "mimetype": "text/x-python",
   "name": "python",
   "nbconvert_exporter": "python",
   "pygments_lexer": "ipython3",
   "version": "3.8.6"
  }
 },
 "nbformat": 4,
 "nbformat_minor": 5
}
