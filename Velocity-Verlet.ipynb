{
 "cells": [
  {
   "cell_type": "raw",
   "id": "sealed-circle",
   "metadata": {},
   "source": [
    "Is of exactly the same form as the euler method (same inputs and same form of outputs)"
   ]
  },
  {
   "cell_type": "code",
   "execution_count": null,
   "id": "practical-queue",
   "metadata": {},
   "outputs": [],
   "source": [
    "def verlet(final_matrix_pos, final_matrix_vel):\n",
    "    \n",
    "    latest_pos = np.copy(final_matrix_pos[:,-3:])         # -3 is for the dimensions\n",
    "    latest_vel = np.copy(final_matrix_vel[:,-3:])\n",
    "    \n",
    "    new_latest_pos = latest_pos + time_step * latest_vel + 1/ 2 * time_step**2  * lj_force(latest_pos)\n",
    "    new_latest_vel = latest_vel + time_step/2 * (lj_force(new_latest_pos)) + lj_force(latest_pos)\n",
    "    return new_latest_pos, new_latest_vel"
   ]
  }
 ],
 "metadata": {
  "kernelspec": {
   "display_name": "Python 3",
   "language": "python",
   "name": "python3"
  },
  "language_info": {
   "codemirror_mode": {
    "name": "ipython",
    "version": 3
   },
   "file_extension": ".py",
   "mimetype": "text/x-python",
   "name": "python",
   "nbconvert_exporter": "python",
   "pygments_lexer": "ipython3",
   "version": "3.8.6"
  }
 },
 "nbformat": 4,
 "nbformat_minor": 5
}
