{
 "cells": [
  {
   "cell_type": "code",
   "execution_count": 57,
   "id": "constant-finland",
   "metadata": {},
   "outputs": [],
   "source": [
    "import skeleton as s\n",
    "import numpy as np"
   ]
  },
  {
   "cell_type": "code",
   "execution_count": 66,
   "id": "swedish-turtle",
   "metadata": {},
   "outputs": [],
   "source": [
    "init_pos = np.random.uniform(low=0, high=1.0, size=(2, 2))\n",
    "init_vel = np.random.uniform(low=-430, high=430, size=(2, 2))\n",
    "time_step = pow(10, -8)\n",
    "m = 6.6335 * pow(10, -26) #mass of argon atom\n",
    "n = 2 #number of particles"
   ]
  },
  {
   "cell_type": "code",
   "execution_count": 67,
   "id": "forward-waste",
   "metadata": {},
   "outputs": [
    {
     "name": "stdout",
     "output_type": "stream",
     "text": [
      "initial pos\n",
      " [[0.77490016 0.53815941]\n",
      " [0.76317406 0.85891628]] \n",
      " initial vel\n",
      " [[ 183.06998305 -182.99914515]\n",
      " [ 132.97494378   30.69172426]]\n"
     ]
    }
   ],
   "source": [
    "print(\"initial pos\\n\", init_pos,\"\\n initial vel\\n\" ,init_vel)"
   ]
  },
  {
   "cell_type": "code",
   "execution_count": 68,
   "id": "egyptian-oxford",
   "metadata": {},
   "outputs": [
    {
     "data": {
      "text/plain": [
       "array([[ 8.07868504e-73, -3.26716572e-73],\n",
       "       [-8.07868504e-73,  3.26716572e-73]])"
      ]
     },
     "execution_count": 68,
     "metadata": {},
     "output_type": "execute_result"
    }
   ],
   "source": [
    "#compute the forces on the particles at each timestep\n",
    "def lj_force(position, n):\n",
    "    e = 1.65*pow(10,-21)\n",
    "    s = 3.405*pow(10,-10)\n",
    "    F = 0\n",
    "    pos = position[:,-n:]\n",
    "    for j in range(n):\n",
    "        f = 0    # force on the j-th particle\n",
    "        for i in range(n-1):\n",
    "            if i+j+1 >= n: #take into account particles 0,1,....,j-1\n",
    "                rel_pos=pos[:,j+i+1-n]-pos[:,j] #gives position of i-th particle with resprect to j-th particle (points from i to j)\n",
    "                r = np.linalg.norm(pos[:,j+i+1-n]-pos[:,j])\n",
    "                f += rel_pos*((24*e/pow(r,2))*(pow(s/r,6))*((pow(s/r,6))-1))  # ff on the j-th part. from the interaction with the i-th part.\n",
    "            else: #take into account particles j+1,....,n-1\n",
    "                rel_pos=pos[:,j+i+1]-pos[:,j] #gives position of i-th particle with resprect to j-th particle (points from i to j)\n",
    "                r = np.linalg.norm(pos[:,j+i+1]-pos[:,j])\n",
    "                f += rel_pos*((24*e/pow(r,2))*(pow(s/r,6))*((pow(s/r,6))-1))  # f on the j-th part. from the interaction with the i-th part.\n",
    "        if j == 0:\n",
    "            F = f\n",
    "        else:\n",
    "            F = np.concatenate((F, f), axis=0, out=None)\n",
    "    \n",
    "    F_matrix = np.zeros((2,n)) #2 is the number of dimensions, n is the number of particles\n",
    "    F_matrix[:n] = F[0:n]\n",
    "    F_matrix[1:] = F[2:]\n",
    "    return F_matrix"
   ]
  },
  {
   "cell_type": "code",
   "execution_count": 70,
   "id": "promising-public",
   "metadata": {},
   "outputs": [
    {
     "data": {
      "text/plain": [
       "(array([[0.77490199, 0.53815758],\n",
       "        [0.76317539, 0.85891659]]),\n",
       " array([[ 183.06998305, -182.99914515],\n",
       "        [ 132.97494378,   30.69172426]]))"
      ]
     },
     "execution_count": 70,
     "metadata": {},
     "output_type": "execute_result"
    }
   ],
   "source": [
    "final_matrix_pos = np.copy(init_pos)\n",
    "final_matrix_vel = np.copy(init_vel)\n",
    "\n",
    "def euler(final_matrix_pos, final_matrix_vel):\n",
    "    \n",
    "    latest_pos = np.copy(final_matrix_pos[:,-2:])          #the -2 will eventually become -(number of particles)\n",
    "    latest_vel = np.copy(final_matrix_vel[:,-2:])\n",
    "    \n",
    "    new_latest_pos = latest_pos + latest_vel * time_step\n",
    "    new_latest_vel = latest_vel + 1/m * lj_force(latest_pos, 2)\n",
    "    return new_latest_pos, new_latest_vel\n"
   ]
  },
  {
   "cell_type": "code",
   "execution_count": 80,
   "id": "alive-examination",
   "metadata": {},
   "outputs": [
    {
     "ename": "IndentationError",
     "evalue": "unexpected indent (<ipython-input-80-d10ccf350fe9>, line 12)",
     "output_type": "error",
     "traceback": [
      "\u001b[0;36m  File \u001b[0;32m\"<ipython-input-80-d10ccf350fe9>\"\u001b[0;36m, line \u001b[0;32m12\u001b[0m\n\u001b[0;31m    next_step_position, next_step_velocity = np.copy(euler(init_pos, init_vel))\u001b[0m\n\u001b[0m    ^\u001b[0m\n\u001b[0;31mIndentationError\u001b[0m\u001b[0;31m:\u001b[0m unexpected indent\n"
     ]
    }
   ],
   "source": [
    "#Create a 2x8 matrix to store the velocity of each particle at each step in time.\n",
    "next_step_velocity = np.copy(init_vel)\n",
    "\n",
    "#Create a 2x8 matrix to store the position of each particle at each step in time.\n",
    "number_of_steps = 3\n",
    "next_step_position = np.copy(init_pos)\n",
    "\n",
    "for i in range(number_of_steps):\n",
    "    next_step_position, next_step_velocity = euler(final_matrix_pos, final_matrix_vel)\n",
    "    for k in range(2): #implement boundary conditions\n",
    "        for j in range(2):\n",
    "            next_step_position[k, j] = next_step_position[k, j]%1\n",
    "    final_matrix_pos =  np.concatenate((final_matrix_pos, next_step_position), axis=1, out=None)\n",
    "    final_matrix_vel =  np.concatenate((final_matrix_vel, next_step_velocity), axis=1, out=None)\n",
    "\n",
    "print(final_matrix_pos)\n",
    "print(final_matrix_vel)"
   ]
  },
  {
   "cell_type": "code",
   "execution_count": 63,
   "id": "aware-clerk",
   "metadata": {},
   "outputs": [
    {
     "name": "stdout",
     "output_type": "stream",
     "text": [
      "[[ -89.25168113 -108.97864129  -83.612957   -195.55931867 -115.52555023\n",
      "  -179.96365112 -212.74754744 -102.93066735]\n",
      " [ 342.09602315  183.17696253  309.51915862  205.9646631   287.26027612\n",
      "   201.34251367  295.50922301  131.32766511]]\n"
     ]
    }
   ],
   "source": [
    "#Create a 2x8 matrix to store the velocity of each particle at each step in time.\n",
    "final_matrix_vel = np.copy(init_vel)\n",
    "next_step_velocity = np.copy(init_vel)\n",
    "\n",
    "for i in range(number_of_steps):\n",
    "    next_step_velocity += np.random.uniform(low=-100, high=100, size=(2, 2))\n",
    "    final_matrix_vel =  np.concatenate((final_matrix_vel, next_step_velocity), axis=1, out=None)\n",
    "\n",
    "print(vel_steps)"
   ]
  },
  {
   "cell_type": "code",
   "execution_count": null,
   "id": "shaped-coaching",
   "metadata": {},
   "outputs": [],
   "source": []
  }
 ],
 "metadata": {
  "kernelspec": {
   "display_name": "Python 3",
   "language": "python",
   "name": "python3"
  },
  "language_info": {
   "codemirror_mode": {
    "name": "ipython",
    "version": 3
   },
   "file_extension": ".py",
   "mimetype": "text/x-python",
   "name": "python",
   "nbconvert_exporter": "python",
   "pygments_lexer": "ipython3",
   "version": "3.8.6"
  }
 },
 "nbformat": 4,
 "nbformat_minor": 5
}
