{
 "cells": [
  {
   "cell_type": "markdown",
   "id": "welsh-prerequisite",
   "metadata": {},
   "source": [
    "v needs to be a 2xn matrix, where n is the number of particles"
   ]
  },
  {
   "cell_type": "code",
   "execution_count": 1,
   "id": "infectious-impression",
   "metadata": {},
   "outputs": [],
   "source": [
    "def kin_en(v,n):\n",
    "    K = 0\n",
    "    m = 1 #we need to find the mass of Argon\n",
    "    for i in range(n):\n",
    "        K += 0.5*m*((v[0,i]*v[0,i])+(v[1,i]*v[1,i]))\n",
    "    return K"
   ]
  }
 ],
 "metadata": {
  "kernelspec": {
   "display_name": "Python 3",
   "language": "python",
   "name": "python3"
  },
  "language_info": {
   "codemirror_mode": {
    "name": "ipython",
    "version": 3
   },
   "file_extension": ".py",
   "mimetype": "text/x-python",
   "name": "python",
   "nbconvert_exporter": "python",
   "pygments_lexer": "ipython3",
   "version": "3.8.6"
  }
 },
 "nbformat": 4,
 "nbformat_minor": 5
}
