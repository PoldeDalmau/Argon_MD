{
 "cells": [
  {
   "cell_type": "code",
   "execution_count": 1,
   "id": "literary-firmware",
   "metadata": {},
   "outputs": [],
   "source": [
    "import numpy as np"
   ]
  },
  {
   "cell_type": "code",
   "execution_count": 2,
   "id": "occasional-suffering",
   "metadata": {},
   "outputs": [],
   "source": [
    "W = 1   #Width \n",
    "K = 1   #Depth\n",
    "n = 3\n",
    "dimensions = 3\n",
    "def atomic_distances(pos, output, L=1, W=1): # output = 0 gives the relative distances, output = 1 gives the relative positions\n",
    "    rel_pos = pos[:, None, :] - pos[None, :, :]                 # returns one matrix for each particle. Relative distances within the box\n",
    "    rel_dist = np.zeros((n, n, 1))\n",
    "    for i in range(n):\n",
    "        for k in range(n):\n",
    "            for l in range(dimensions):\n",
    "                if l == 0: # x-values i.e. change by L\n",
    "                    rel_pos[i,k,l] = min(rel_pos[i,k,l], (rel_pos[i,k,l]+L)%L, (rel_pos[i,k,l]-L)%L, rel_pos[i,k,l]+L, rel_pos[i,k,l]-L, key=abs) # takes the smallest distance comparing all images\n",
    "                if l == 1:\n",
    "                    rel_pos[i,k,l] = min(rel_pos[i,k,l], (rel_pos[i,k,l]+W)%W, (rel_pos[i,k,l]-W)%W, rel_pos[i,k,l]+W, rel_pos[i,k,l]-W, key=abs)\n",
    "                if l == 2:\n",
    "                    rel_pos[i,k,l] = min(rel_pos[i,k,l], (rel_pos[i,k,l]+K)%K, (rel_pos[i,k,l]-K)%K, rel_pos[i,k,l]+K, rel_pos[i,k,l]-K, key=abs)\n",
    "    for i in range(n):    \n",
    "        for k in range(n):\n",
    "            rel_dist[i,k] = np.sqrt(np.dot(rel_pos[i,k,:],rel_pos[i,k,:]))\n",
    "    if output == 0:\n",
    "        return rel_dist\n",
    "    elif output == 1:\n",
    "        return rel_pos\n",
    "    else:\n",
    "        print(\"The second parameter in the lj_forces must be either 0(for distances) or 1(for positions)\")"
   ]
  },
  {
   "cell_type": "code",
   "execution_count": 3,
   "id": "simple-papua",
   "metadata": {},
   "outputs": [],
   "source": [
    "#compute the forces on the particles at each timestep, pos = [m]/[s] = \n",
    "def lj_force(position):\n",
    "    rel_pos = atomic_distances(position[:,-3:], 1) # calculates the relative position of the particles, with pos = np.array(N_particels, 3)\n",
    "    n = np.shape(rel_pos)[0] # number of particles\n",
    "    r = np.sqrt(np.sum((rel_pos)**2, axis=2)) # n x n simmetric matrix, r[i,j] is the distance between the i-th and the j-th particles\n",
    "    R = np.zeros((n,n,3))\n",
    "    for i in range(n):\n",
    "        for j in range (n):\n",
    "            for k in range (3):\n",
    "                R[i,j,k] = r [i,j]\n",
    "                if r[i,j] == 0:\n",
    "                    R[i,j,k] = 1\n",
    "    # R are n matricies in the form nx3, where the i-th matrix contains the distances from the i-th particle, calling R_i the i-th matrix, \n",
    "    # R_i[j,k] gives the distance between the i-th and the j-th particles and is the same value for all the 'k in range(3)', i.e. on all the j-th line\n",
    "    # in addition, R_i[i,k] (i-th line of the i-th matrix) is equal to 1 instead of 0 in order not to divide by 0 in the computation of F\n",
    "    # we can do this since rel_pos_i[i,k] multiplies everything in F and is equal to 0\n",
    "    F = np.zeros((n,n,3))\n",
    "    F = rel_pos*R\n",
    "    F = 24*rel_pos*(((1/R)**12)-((1/R)**6))\n",
    "    F_matrix = np.sum(F, axis=0)  \n",
    "    return F_matrix # The output is an nx3 matrix"
   ]
  },
  {
   "cell_type": "code",
   "execution_count": 4,
   "id": "aggressive-desire",
   "metadata": {},
   "outputs": [
    {
     "data": {
      "text/plain": [
       "array([[-2.56876105e+09, -2.19575278e+09,  1.20194328e+09],\n",
       "       [ 6.22474149e+06, -2.43724412e+07, -1.22035268e+07],\n",
       "       [-2.87130173e+04, -8.43050984e+03,  1.78990433e+04],\n",
       "       [-3.68874056e+07,  2.07200458e+07,  9.87766479e+06],\n",
       "       [ 2.59945243e+09,  2.19941360e+09, -1.19963532e+09]])"
      ]
     },
     "execution_count": 4,
     "metadata": {},
     "output_type": "execute_result"
    }
   ],
   "source": [
    "A = np.array([[0.26,0.37,0.81],[0.45,0.62,0.94],[0.75,0.53,0.38],[0.54,0.38,0.82],[0.13,0.26,0.87]])\n",
    "lj_force(A)"
   ]
  },
  {
   "cell_type": "code",
   "execution_count": null,
   "id": "permanent-elevation",
   "metadata": {},
   "outputs": [],
   "source": []
  }
 ],
 "metadata": {
  "kernelspec": {
   "display_name": "Python 3",
   "language": "python",
   "name": "python3"
  },
  "language_info": {
   "codemirror_mode": {
    "name": "ipython",
    "version": 3
   },
   "file_extension": ".py",
   "mimetype": "text/x-python",
   "name": "python",
   "nbconvert_exporter": "python",
   "pygments_lexer": "ipython3",
   "version": "3.8.6"
  }
 },
 "nbformat": 4,
 "nbformat_minor": 5
}
