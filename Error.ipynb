{
 "cells": [
  {
   "cell_type": "code",
   "execution_count": 1,
   "id": "empty-fusion",
   "metadata": {},
   "outputs": [],
   "source": [
    "import numpy as np"
   ]
  },
  {
   "cell_type": "code",
   "execution_count": 2,
   "id": "reported-system",
   "metadata": {},
   "outputs": [
    {
     "data": {
      "text/plain": [
       "3"
      ]
     },
     "execution_count": 2,
     "metadata": {},
     "output_type": "execute_result"
    }
   ],
   "source": [
    "b = 3\n",
    "number_of_steps = 9\n",
    "Nb = int(number_of_steps/b)\n",
    "Nb"
   ]
  },
  {
   "cell_type": "code",
   "execution_count": 3,
   "id": "harmful-blade",
   "metadata": {},
   "outputs": [
    {
     "name": "stdout",
     "output_type": "stream",
     "text": [
      "P= [1 2 3 4 5 6 7 8 9]\n",
      "p= [0. 0. 0.]\n",
      "P= [1 2 3 4 5 6 7 8 9]\n",
      "p= [2. 5. 8.]\n"
     ]
    }
   ],
   "source": [
    "P = np.array([1,2,3,4,5,6,7,8,9])\n",
    "p = np.zeros(Nb)\n",
    "print('P=',P)\n",
    "print('p=',p)\n",
    "for j in range(Nb):\n",
    "    for i in range(j*b,(j+1)*b):\n",
    "        p[j] += (1/b)*P[i+np.floor_divide(j,b)]\n",
    "print('P=',P)\n",
    "print('p=',p)"
   ]
  },
  {
   "cell_type": "code",
   "execution_count": 4,
   "id": "powerful-russell",
   "metadata": {},
   "outputs": [
    {
     "name": "stdout",
     "output_type": "stream",
     "text": [
      "1.7320508075688772\n"
     ]
    }
   ],
   "source": [
    "S_a=np.sqrt((1/(Nb-1))*(((1/Nb)*np.sum(np.square(p)))-np.square((1/Nb)*np.sum(p))))\n",
    "print(S_a)"
   ]
  }
 ],
 "metadata": {
  "kernelspec": {
   "display_name": "Python 3",
   "language": "python",
   "name": "python3"
  },
  "language_info": {
   "codemirror_mode": {
    "name": "ipython",
    "version": 3
   },
   "file_extension": ".py",
   "mimetype": "text/x-python",
   "name": "python",
   "nbconvert_exporter": "python",
   "pygments_lexer": "ipython3",
   "version": "3.8.6"
  }
 },
 "nbformat": 4,
 "nbformat_minor": 5
}
