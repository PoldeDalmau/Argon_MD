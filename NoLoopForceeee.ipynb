{
 "cells": [
  {
   "cell_type": "code",
   "execution_count": 1,
   "id": "painted-swing",
   "metadata": {},
   "outputs": [],
   "source": [
    "import numpy as np\n",
    "n = 2 "
   ]
  },
  {
   "cell_type": "code",
   "execution_count": 6,
   "id": "committed-geography",
   "metadata": {},
   "outputs": [],
   "source": [
    "def atomic_distances(pos, L=1, W=1, K=1, dimensions=3):\n",
    "    rel_pos = pos[:, None, :] - pos[None, :, :]                 # returns one matrix for each particle. Relative distances within the box\n",
    "    rel_dist = np.zeros((n, n, 1))\n",
    "    for i in range(n):\n",
    "        for k in range(n):\n",
    "            for l in range(dimensions):\n",
    "                if l == 0: # x-values i.e. change by L\n",
    "                    rel_pos[i,k,l] = min(rel_pos[i,k,l], (rel_pos[i,k,l]+L)%L, (rel_pos[i,k,l]-L)%L, rel_pos[i,k,l]+L, rel_pos[i,k,l]-L, key=abs) # takes the smallest distance comparing all images\n",
    "                if l == 1:\n",
    "                    rel_pos[i,k,l] = min(rel_pos[i,k,l], (rel_pos[i,k,l]+W)%W, (rel_pos[i,k,l]-W)%W, rel_pos[i,k,l]+W, rel_pos[i,k,l]-W, key=abs)\n",
    "                if l == 2:\n",
    "                    rel_pos[i,k,l] = min(rel_pos[i,k,l], (rel_pos[i,k,l]+K)%K, (rel_pos[i,k,l]-K)%K, rel_pos[i,k,l]+K, rel_pos[i,k,l]-K, key=abs)\n",
    "    for i in range(n):    \n",
    "        for k in range(n):\n",
    "            rel_dist[i,k] = np.sqrt(np.dot(rel_pos[i,k,:],rel_pos[i,k,:]))\n",
    "            \n",
    "    return rel_pos"
   ]
  },
  {
   "cell_type": "code",
   "execution_count": 31,
   "id": "nuclear-orleans",
   "metadata": {},
   "outputs": [],
   "source": [
    "#compute the forces on the particles at each timestep, pos = [m]/[s] = \n",
    "def lj_force(position, n):\n",
    "    \n",
    "    rel_pos = atomic_distances(position[:,-3:]) # with pos = np.array(N_particels, 3)\n",
    "    r = np.sqrt(np.sum(np.power(rel_pos, 2), axis=2)) #n x n simmetric matrix, r[i,j] is the distance between the i-th and the j-th particles\n",
    "    r = r[0,1]\n",
    "    F = np.zeros((n,3))\n",
    "    F = 24*rel_pos*(((1/r)**12)-((1/r)**6))\n",
    "    F_matrix=np.sum(F,axis=0)    \n",
    "    \n",
    "    return F_matrix"
   ]
  },
  {
   "cell_type": "code",
   "execution_count": 4,
   "id": "thick-creation",
   "metadata": {},
   "outputs": [
    {
     "data": {
      "text/plain": [
       "array([[0.1 , 0.8 , 0.3 ],\n",
       "       [0.6 , 0.5 , 0.13]])"
      ]
     },
     "execution_count": 4,
     "metadata": {},
     "output_type": "execute_result"
    }
   ],
   "source": [
    "our = np.array([[0.1, 0.8, 0.3], [0.6, 0.5, 0.13]]) # n x 3 matrix with n = 2\n",
    "our"
   ]
  },
  {
   "cell_type": "code",
   "execution_count": 32,
   "id": "narrow-greensboro",
   "metadata": {},
   "outputs": [
    {
     "data": {
      "text/plain": [
       "array([[ 4522.30973442, -2713.38584065, -1537.5853097 ],\n",
       "       [-4522.30973442,  2713.38584065,  1537.5853097 ]])"
      ]
     },
     "execution_count": 32,
     "metadata": {},
     "output_type": "execute_result"
    }
   ],
   "source": [
    "lj_force(our, 2)"
   ]
  },
  {
   "cell_type": "code",
   "execution_count": null,
   "id": "practical-participation",
   "metadata": {},
   "outputs": [],
   "source": []
  }
 ],
 "metadata": {
  "kernelspec": {
   "display_name": "Python 3",
   "language": "python",
   "name": "python3"
  },
  "language_info": {
   "codemirror_mode": {
    "name": "ipython",
    "version": 3
   },
   "file_extension": ".py",
   "mimetype": "text/x-python",
   "name": "python",
   "nbconvert_exporter": "python",
   "pygments_lexer": "ipython3",
   "version": "3.8.6"
  }
 },
 "nbformat": 4,
 "nbformat_minor": 5
}
